{
 "cells": [
  {
   "cell_type": "markdown",
   "id": "1922abe2-9fd0-4de1-a2d0-c0629916266e",
   "metadata": {},
   "source": [
    "First load some dependencies..."
   ]
  },
  {
   "cell_type": "code",
   "execution_count": null,
   "id": "f579fe0f-0564-4beb-9c26-26fa86acb518",
   "metadata": {},
   "outputs": [],
   "source": [
    "library(moderndive)\n",
    "library(tidyverse)"
   ]
  },
  {
   "cell_type": "markdown",
   "id": "5be5888b-2eb4-407d-82d7-f6506595910f",
   "metadata": {},
   "source": [
    "We will be working with the `bowl` data set from [ModernDiver chapter 7](https://moderndive.com/7-sampling.html)."
   ]
  },
  {
   "cell_type": "code",
   "execution_count": null,
   "id": "1ee4fd88-f81e-454e-a9c6-d8b496b1a4c4",
   "metadata": {},
   "outputs": [],
   "source": [
    "bowl |> glimpse()"
   ]
  },
  {
   "cell_type": "markdown",
   "id": "001440dc-c4d9-4e8b-8c79-03b524bc725f",
   "metadata": {},
   "source": [
    "What does the following code calculate?"
   ]
  },
  {
   "cell_type": "code",
   "execution_count": null,
   "id": "daa86491-af9e-49d5-9951-85fcae615700",
   "metadata": {},
   "outputs": [],
   "source": [
    "bowl |> summarize(n_red = sum(color == 'red'), prop_red = n_red / n())"
   ]
  },
  {
   "cell_type": "markdown",
   "id": "970df711-1a0d-41a4-85da-465d8f57a3f2",
   "metadata": {},
   "source": [
    "## Sample with for loop"
   ]
  },
  {
   "cell_type": "markdown",
   "id": "80cc1675-7e7d-4a06-b69b-ed2eddb19879",
   "metadata": {},
   "source": [
    "The code below shows how we can sample 50 rows from the bowl data frame."
   ]
  },
  {
   "cell_type": "code",
   "execution_count": null,
   "id": "250161b1-46b8-40f4-9bbc-c9b2027ef6bf",
   "metadata": {},
   "outputs": [],
   "source": [
    "bowl |> sample_n(50)"
   ]
  },
  {
   "cell_type": "markdown",
   "id": "6fa4fdcc-32f7-4fd6-8ccc-c87367ef3b34",
   "metadata": {},
   "source": [
    "The loop below runs the `sample_n` function `n_samples` times. For each iteration, we sample `sample_size` rows from `bowl`."
   ]
  },
  {
   "cell_type": "code",
   "execution_count": null,
   "id": "b0c21ff9-1c39-401e-958f-29f79de2266f",
   "metadata": {},
   "outputs": [],
   "source": [
    "n_samples = 1000\n",
    "sample_size = 100\n",
    "\n",
    "bowl_samples = data.frame()\n",
    "for (i in 1:n_samples) {\n",
    "    bowl_sample = dplyr::sample_n(bowl, sample_size) |>\n",
    "        mutate(rep = i)\n",
    "    bowl_samples = rbind(bowl_samples, bowl_sample)\n",
    "}\n",
    "\n",
    "bowl_samples |> head()"
   ]
  },
  {
   "cell_type": "markdown",
   "id": "ea3b733e-60ed-4bb4-b5c7-995336606782",
   "metadata": {},
   "source": [
    "Inspect the code above. \n",
    "\n",
    "1. What does the `rbind` function do?\n",
    "2. Where does the `rep` variable come from in the `bowl_samples` data frame?\n",
    "3. How many rows are in the `bowl_samples` table? (Use the `nrow` function) Does the row count make sense based on `sample_size` and `n_samples`?"
   ]
  },
  {
   "cell_type": "code",
   "execution_count": null,
   "id": "b2d7aa8b-bd2c-4f30-826f-e9675617c836",
   "metadata": {},
   "outputs": [],
   "source": [
    "\n",
    "\n"
   ]
  },
  {
   "cell_type": "markdown",
   "id": "f28442f7-93d0-41c7-8388-1a0e2a51e842",
   "metadata": {},
   "source": [
    "Create a new table that counts the number of red balls for each \"rep\" in bowl samples.\n",
    "1. `group_by` rep.\n",
    "2. Use `summarize` and `sum(color =='red')` to calculate number of red balls per group. Call this new variable `n_red`.\n",
    "3. Use `n_red / n()` to calculate the *proportion* of red balls in each sample. Call this proportion `prop_red`."
   ]
  },
  {
   "cell_type": "code",
   "execution_count": null,
   "id": "fb14e0df-28fb-4133-80ad-f384ed2c7d81",
   "metadata": {},
   "outputs": [],
   "source": [
    "\n",
    "\n"
   ]
  },
  {
   "cell_type": "markdown",
   "id": "0cc19096-34ff-480a-ac0f-ef9f97cf99c5",
   "metadata": {},
   "source": [
    "Plot a histogram of `prop_red`. Does the central tendency make sense knowing the composition of the full bowl dataset?"
   ]
  },
  {
   "cell_type": "code",
   "execution_count": null,
   "id": "83fcf56f-1c92-4788-acad-ab1fb55c6bcd",
   "metadata": {},
   "outputs": [],
   "source": [
    "\n",
    "\n"
   ]
  },
  {
   "cell_type": "markdown",
   "id": "9d30d53d-fc2b-472e-a009-34e5ee211be4",
   "metadata": {},
   "source": [
    "## Sample with `purrr`"
   ]
  },
  {
   "cell_type": "markdown",
   "id": "0f22a5c4-100a-46d6-9a2b-98351d0fd134",
   "metadata": {},
   "source": [
    "We can also use functions from [`purrr`](https://purrr.tidyverse.org/) to iterate in R. This will tend to be much faster than using loops."
   ]
  },
  {
   "cell_type": "code",
   "execution_count": null,
   "id": "b56052af-4ffb-4a34-83de-c32913d609be",
   "metadata": {},
   "outputs": [],
   "source": [
    "library(purrr)"
   ]
  },
  {
   "cell_type": "markdown",
   "id": "03c4d91b-8305-40f9-a2ff-e9fbbd006254",
   "metadata": {},
   "source": [
    "Run this code. Can you make sense of the `map_dfr` function?"
   ]
  },
  {
   "cell_type": "code",
   "execution_count": null,
   "id": "95fa3b22-d3b3-465d-aa0c-2545862c3157",
   "metadata": {},
   "outputs": [],
   "source": [
    "n_samples = 10000\n",
    "sample_size = 1000\n",
    "\n",
    "bowl_samples = 1:n_samples |> map_dfr(function(i) sample_n(bowl, sample_size), .id = 'rep')\n",
    "# bowl_samples = 1:n_samples |> map_dfr(~sample_n(bowl, sample_size), .id = 'rep')                                      \n",
    "\n",
    "bowl_samples |> head()"
   ]
  },
  {
   "cell_type": "markdown",
   "id": "862920a4-ec70-4e7e-a3f0-3ad1a842ad0b",
   "metadata": {},
   "source": [
    "Run the commented line above ☝️. What's the difference? What happens if you change the value of the `.id` argument?"
   ]
  },
  {
   "cell_type": "markdown",
   "id": "4062e4c1-cc49-4c7c-864f-0b894c5ccb1c",
   "metadata": {},
   "source": [
    "## Using `rep_sample_n`"
   ]
  },
  {
   "cell_type": "markdown",
   "id": "8edbcc0c-ebd8-417d-bc20-f0f1a3dd030a",
   "metadata": {},
   "source": [
    "Use the `Contextual Help` feature in Jupyter Lab to see the documentation for the `rep_sample_n` function. Where does this function come from?"
   ]
  },
  {
   "cell_type": "markdown",
   "id": "dc52431c-f4f9-4da2-8a04-8ed06f4c07ba",
   "metadata": {},
   "source": [
    "Use `rep_sample_n` to sample the `bowl` table. Plot a histogram of the proportion of red balls in each sample."
   ]
  },
  {
   "cell_type": "code",
   "execution_count": null,
   "id": "8a3b1b47-51d8-4486-a7d8-010a3563dfc9",
   "metadata": {},
   "outputs": [],
   "source": [
    "\n",
    "\n"
   ]
  },
  {
   "cell_type": "markdown",
   "id": "aafa9d55-4caf-48d6-8613-4b9addfbeb8f",
   "metadata": {},
   "source": [
    "## Central Limit Theorem"
   ]
  },
  {
   "cell_type": "markdown",
   "id": "bce9d380-db46-4a79-80ef-07e56b545d79",
   "metadata": {},
   "source": [
    "Make three tables of 1,000 samples from the `bowl` table. Use three different sample sizes, 100, 250, and 1,000 (one sample size for each of your three tables). Use `mutate` to indicate the sample size with a new column called `sample_size`. "
   ]
  },
  {
   "cell_type": "code",
   "execution_count": null,
   "id": "c58e00ae-af7a-48ad-b8e0-f2279a7600b7",
   "metadata": {},
   "outputs": [],
   "source": [
    "\n",
    "\n"
   ]
  },
  {
   "cell_type": "markdown",
   "id": "d30bb7f0-d5d4-4956-aaa0-abcf0b89a957",
   "metadata": {},
   "source": [
    "Use `rbind` to concatenate your three tables together into a new dataframe. Group by sample size and replicate ID and calculate the proportion red balls in each sample. Plot an overlapping histogram of the distributions of red ball proportion for each sample size (i.e. color by sample size). Which sample size produces the most narrow distribution?\n",
    "\n",
    "(**Hint:** you will want to convert your `sample_size` column to a factor!)"
   ]
  },
  {
   "cell_type": "code",
   "execution_count": null,
   "id": "2f260a5a-bbf7-40b2-b934-188ad23a72e9",
   "metadata": {},
   "outputs": [],
   "source": [
    "\n",
    "\n"
   ]
  }
 ],
 "metadata": {
  "kernelspec": {
   "display_name": "R",
   "language": "R",
   "name": "ir"
  },
  "language_info": {
   "codemirror_mode": "r",
   "file_extension": ".r",
   "mimetype": "text/x-r-source",
   "name": "R",
   "pygments_lexer": "r",
   "version": "4.2.3"
  }
 },
 "nbformat": 4,
 "nbformat_minor": 5
}
