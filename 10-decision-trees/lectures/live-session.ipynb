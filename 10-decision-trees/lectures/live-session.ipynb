{
 "cells": [
  {
   "cell_type": "code",
   "execution_count": null,
   "id": "1c1ba376-f126-4480-9bcf-535e7da8f2c8",
   "metadata": {
    "tags": []
   },
   "outputs": [],
   "source": [
    "library('palmerpenguins')"
   ]
  },
  {
   "cell_type": "code",
   "execution_count": null,
   "id": "b1d30a90-8339-43be-bb6e-20b9d48d1c99",
   "metadata": {
    "tags": []
   },
   "outputs": [],
   "source": [
    "library('tidymodels')"
   ]
  },
  {
   "cell_type": "code",
   "execution_count": null,
   "id": "09b377af-bf7f-44db-852c-0e3091595d3f",
   "metadata": {
    "tags": []
   },
   "outputs": [],
   "source": [
    "library('rpart.plot')"
   ]
  },
  {
   "cell_type": "code",
   "execution_count": null,
   "id": "5268d46a-c43c-49bd-a7ac-1b1ddeae9bd7",
   "metadata": {
    "tags": []
   },
   "outputs": [],
   "source": [
    "penguins2 = penguins |> drop_na()\n",
    "\n",
    "penguins2 |> head()"
   ]
  },
  {
   "cell_type": "code",
   "execution_count": null,
   "id": "fb2f9a3f-75c4-4a42-91ea-c0294122901c",
   "metadata": {
    "tags": []
   },
   "outputs": [],
   "source": [
    "penguins2 |>\n",
    "    count(species)"
   ]
  },
  {
   "cell_type": "code",
   "execution_count": null,
   "id": "3817ed43-0a7a-4715-af06-b26f50b4111e",
   "metadata": {
    "tags": []
   },
   "outputs": [],
   "source": [
    "show_engines('decision_tree')"
   ]
  },
  {
   "cell_type": "code",
   "execution_count": null,
   "id": "96416808-da01-4b6d-b7d9-7d5d308a5492",
   "metadata": {
    "tags": []
   },
   "outputs": [],
   "source": [
    "mod = decision_tree() |>\n",
    "    set_engine('rpart') |>\n",
    "    set_mode('classification')\n",
    "\n",
    "mod_fit = mod |> fit(species ~ ., data = penguins2)\n",
    "\n",
    "mod_fit"
   ]
  },
  {
   "cell_type": "code",
   "execution_count": null,
   "id": "16a9e87a-8be5-4097-a87a-d48293242fc9",
   "metadata": {},
   "outputs": [],
   "source": [
    "augment(mod_fit, penguins2) |> head()"
   ]
  },
  {
   "cell_type": "code",
   "execution_count": null,
   "id": "a3a98f9d-e11a-4292-a8e9-97c2bc27a341",
   "metadata": {
    "tags": []
   },
   "outputs": [],
   "source": [
    "options(repr.plot.height = 7, repr.plot.width = 8)\n",
    "\n",
    "rpart.plot(mod_fit$fit)"
   ]
  },
  {
   "cell_type": "code",
   "execution_count": null,
   "id": "0967da4d-3db1-43b4-9621-092e3d06ab0c",
   "metadata": {
    "tags": []
   },
   "outputs": [],
   "source": [
    "v = c('a', 'b', 'c', 'd', 'e', 'f')\n",
    "\n",
    "# (1 - ((6 / 6)^2)) * 100"
   ]
  },
  {
   "cell_type": "code",
   "execution_count": null,
   "id": "26945aae-6b8e-421d-a0e8-ccd250e914f9",
   "metadata": {
    "tags": []
   },
   "outputs": [],
   "source": [
    "gini_impurity = function(values) {\n",
    "    freqs = table(values) / length(values)\n",
    "    (1 - sum(freqs^2)) * 100\n",
    "}\n",
    "\n",
    "mean_gini_impurity = function(split_point, penguins_df = penguins2) {\n",
    "    # assumes splitting variable is \"flipper_length_mm\"\n",
    "    \n",
    "    n1 = penguins_df |> filter(flipper_length_mm < split_point) |> nrow()\n",
    "    g1 = gini_impurity(\n",
    "        penguins_df |> \n",
    "            filter(flipper_length_mm < split_point) |> \n",
    "            pull(species)\n",
    "    )\n",
    "    \n",
    "    n2 = penguins_df |> filter(flipper_length_mm >= split_point) |> nrow()\n",
    "    g2 = gini_impurity(\n",
    "        penguins_df |> \n",
    "            filter(flipper_length_mm >= split_point) |> \n",
    "            pull(species)\n",
    "    )\n",
    "    \n",
    "    weighted.mean(c(g1, g2), c(n1, n2))\n",
    "}\n",
    "\n",
    "mean_gini_impurity(190, penguins2)"
   ]
  },
  {
   "cell_type": "code",
   "execution_count": null,
   "id": "e860b219-e5f5-41c8-bf7c-92ad3d12a760",
   "metadata": {
    "tags": []
   },
   "outputs": [],
   "source": [
    "gini_impurity(penguins2 |> pull(species))"
   ]
  },
  {
   "cell_type": "code",
   "execution_count": null,
   "id": "bc93344f-41d1-4dcc-918c-abc78563805e",
   "metadata": {
    "tags": []
   },
   "outputs": [],
   "source": [
    "options(repr.plot.height = 2, repr.plot.width = 6)\n",
    "\n",
    "unique_values = penguins2 |>\n",
    "    arrange(flipper_length_mm) |>\n",
    "    pull(flipper_length_mm) |>\n",
    "    unique() \n",
    "\n",
    "tibble::tibble(\n",
    "    flipper_length_mm = unique_values,\n",
    "    mean_gini = purrr::map_vec(unique_values, ~mean_gini_impurity(split_point = .x))\n",
    ") |>\n",
    "ggplot(aes(x = flipper_length_mm, y = mean_gini)) + \n",
    "    geom_point() +\n",
    "    geom_line()"
   ]
  },
  {
   "cell_type": "code",
   "execution_count": null,
   "id": "8514c4ae-967d-4ecb-8865-2a06ac24ac63",
   "metadata": {
    "tags": []
   },
   "outputs": [],
   "source": [
    "# decrease in gini impurity\n",
    "gini_impurity(penguins2 |> pull(species)) - mean_gini_impurity(207, penguins2)"
   ]
  },
  {
   "cell_type": "code",
   "execution_count": null,
   "id": "07b61865-108f-411e-ad1c-e6b6afce41c7",
   "metadata": {
    "tags": []
   },
   "outputs": [],
   "source": [
    "show_engines('rand_forest')"
   ]
  },
  {
   "cell_type": "code",
   "execution_count": null,
   "id": "df732701-db28-4f5f-a5f4-e54e6de5717a",
   "metadata": {},
   "outputs": [],
   "source": [
    "mod = rand_forest(trees = 1000) |>\n",
    "    set_engine('ranger', importance = 'impurity') |>\n",
    "    set_mode('classification')\n",
    "\n",
    "mod_fit = mod |> fit(species ~ ., data = penguins2)"
   ]
  },
  {
   "cell_type": "code",
   "execution_count": null,
   "id": "cb57fbc2-dd17-4157-813c-1a833ef42d6c",
   "metadata": {},
   "outputs": [],
   "source": [
    "mod_fit"
   ]
  },
  {
   "cell_type": "code",
   "execution_count": null,
   "id": "64ad87da-48ac-4afc-b6bf-f1e7cd2b8c08",
   "metadata": {},
   "outputs": [],
   "source": [
    "augment(mod_fit, penguins2) |> head()"
   ]
  },
  {
   "cell_type": "code",
   "execution_count": null,
   "id": "dd0fbb36-befc-48c1-8b6b-16b8f8c76cfb",
   "metadata": {},
   "outputs": [],
   "source": [
    "library('vip')"
   ]
  },
  {
   "cell_type": "code",
   "execution_count": null,
   "id": "673c6007-1a3c-4ced-9254-93ccb027c560",
   "metadata": {
    "tags": []
   },
   "outputs": [],
   "source": [
    "options(repr.plot.height = 4)\n",
    "\n",
    "mod_fit |> extract_fit_engine() |> vip(num_features = 25)"
   ]
  }
 ],
 "metadata": {
  "kernelspec": {
   "display_name": ".conda-data730-lecture:R",
   "language": "R",
   "name": "conda-env-.conda-data730-lecture-r"
  },
  "language_info": {
   "codemirror_mode": "r",
   "file_extension": ".r",
   "mimetype": "text/x-r-source",
   "name": "R",
   "pygments_lexer": "r",
   "version": "4.3.3"
  }
 },
 "nbformat": 4,
 "nbformat_minor": 5
}
