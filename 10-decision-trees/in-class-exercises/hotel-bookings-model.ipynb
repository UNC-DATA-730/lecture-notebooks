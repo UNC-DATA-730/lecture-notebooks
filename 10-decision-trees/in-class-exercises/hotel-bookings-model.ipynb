{
 "cells": [
  {
   "cell_type": "markdown",
   "id": "4c6afe7a-2026-4c0f-9330-2d51ece10445",
   "metadata": {},
   "source": [
    "Start by loading the `tidymodels` package..."
   ]
  },
  {
   "cell_type": "code",
   "execution_count": null,
   "id": "e0016e1a-d255-4cb7-9198-b1cb757c65f1",
   "metadata": {},
   "outputs": [],
   "source": [
    "\n",
    "\n"
   ]
  },
  {
   "cell_type": "markdown",
   "id": "c19dd902-7659-4915-91f9-6591ea87537f",
   "metadata": {},
   "source": [
    "Let's work with [hotel bookings data](https://github.com/rfordatascience/tidytuesday/blob/master/data/2020/2020-02-11/readme.md) from TidyTuesday. "
   ]
  },
  {
   "cell_type": "code",
   "execution_count": null,
   "id": "a3440bf4-e884-4c37-80bd-bd54ca3c6a05",
   "metadata": {},
   "outputs": [],
   "source": [
    "hotels = \n",
    "  readr::read_csv(\"https://tidymodels.org/start/case-study/hotels.csv\", col_types = readr::cols()) |>\n",
    "  mutate(across(where(is.character), as.factor)) # turns all categorical columns into factors\n",
    "\n",
    "hotels |> head()"
   ]
  },
  {
   "cell_type": "markdown",
   "id": "f06360e4-3193-4b3e-a5ea-8b10114a788e",
   "metadata": {},
   "source": [
    "Each row is a \"stay\" and we want to predict whether the stay included children given the other features."
   ]
  },
  {
   "cell_type": "markdown",
   "id": "c42fc696-78f2-4566-b6d7-d5aa63224894",
   "metadata": {},
   "source": [
    "We'll want to extract a bit more information from the `arrival_date` column. So, let's make a `recipe`."
   ]
  },
  {
   "cell_type": "code",
   "execution_count": null,
   "id": "57bbe244-26a5-457d-a590-5c9c3b73a881",
   "metadata": {},
   "outputs": [],
   "source": [
    "rec = recipe(children ~ ., data = hotels) |>\n",
    "    step_date(arrival_date) |>\n",
    "    step_holiday(arrival_date) |>\n",
    "    step_rm(arrival_date) |>\n",
    "    prep()"
   ]
  },
  {
   "cell_type": "markdown",
   "id": "786a3e66-ca41-4d47-bf8b-5960b5110355",
   "metadata": {},
   "source": [
    "What does this recipe do? Look at the transformed data with \"juice\"."
   ]
  },
  {
   "cell_type": "code",
   "execution_count": null,
   "id": "f2dc7e10-74a1-4268-a60e-13abcb4dd55f",
   "metadata": {},
   "outputs": [],
   "source": [
    "\n",
    "\n"
   ]
  },
  {
   "cell_type": "markdown",
   "id": "3e33bfac-521c-4af6-8bea-5349f6c2546d",
   "metadata": {},
   "source": [
    "Let's start with a decision tree. "
   ]
  },
  {
   "cell_type": "code",
   "execution_count": null,
   "id": "704b51a9-e57c-445f-8569-15fff2d70c0a",
   "metadata": {},
   "outputs": [],
   "source": [
    "mod = decision_tree() |>\n",
    "    set_engine('rpart') |>\n",
    "    set_mode('classification')"
   ]
  },
  {
   "cell_type": "markdown",
   "id": "da6b48d4-3f11-4dab-86fb-189a04e6845d",
   "metadata": {},
   "source": [
    "Fit `mod` using the data from your prepped recipe. (Hint: remember `juice`)."
   ]
  },
  {
   "cell_type": "code",
   "execution_count": null,
   "id": "850b6234-951b-46ff-99d8-0c8576918db4",
   "metadata": {},
   "outputs": [],
   "source": [
    "\n",
    "\n"
   ]
  },
  {
   "cell_type": "markdown",
   "id": "e2b8f7b5-a3a8-4099-b2b0-29771c8811b9",
   "metadata": {},
   "source": [
    "Use the snippet below to visualize the tree. What is the first split?\n",
    "\n",
    "```r\n",
    "rpart.plot::rpart.plot(mod_fit$fit)\n",
    "```"
   ]
  },
  {
   "cell_type": "code",
   "execution_count": null,
   "id": "b90247ac-ece1-4626-bb09-13901717dde9",
   "metadata": {},
   "outputs": [],
   "source": [
    "\n",
    "\n"
   ]
  },
  {
   "cell_type": "markdown",
   "id": "02d0ad38-a48e-4a62-a792-e2b1099477bf",
   "metadata": {},
   "source": [
    "Now create a `random_forest` model and fit it to the transformed `hotels` data.\n",
    "\n",
    "1. the `mode` should be \"classification\", and,\n",
    "2. add `importance = \"impurity\"` to `set_engine` so we can calculate feature importances with the model."
   ]
  },
  {
   "cell_type": "code",
   "execution_count": null,
   "id": "d680e3f3-a698-459c-94c3-f5ec50e494c9",
   "metadata": {},
   "outputs": [],
   "source": [
    "\n",
    "\n"
   ]
  },
  {
   "cell_type": "markdown",
   "id": "c92b4371-2c51-4124-8e8f-29f1a4decde4",
   "metadata": {},
   "source": [
    "We can plot the feature importances. Pipe your fitted model into `extract_fit_parsnip()` and then into `vip(num_features = 20)`."
   ]
  },
  {
   "cell_type": "code",
   "execution_count": null,
   "id": "4fa1f375-66db-4e59-8ec6-78b8cb39b4f7",
   "metadata": {},
   "outputs": [],
   "source": [
    "\n",
    "\n"
   ]
  }
 ],
 "metadata": {
  "kernelspec": {
   "display_name": "R",
   "language": "R",
   "name": "ir"
  },
  "language_info": {
   "codemirror_mode": "r",
   "file_extension": ".r",
   "mimetype": "text/x-r-source",
   "name": "R",
   "pygments_lexer": "r",
   "version": "4.2.3"
  }
 },
 "nbformat": 4,
 "nbformat_minor": 5
}
