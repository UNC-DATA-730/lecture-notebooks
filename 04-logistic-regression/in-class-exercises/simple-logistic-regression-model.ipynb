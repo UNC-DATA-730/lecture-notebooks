{
 "cells": [
  {
   "cell_type": "markdown",
   "id": "8c80b287-87e0-42bf-9f58-9f765c592b27",
   "metadata": {},
   "source": [
    "Load the `ISLR2` and `tidymodels` packages."
   ]
  },
  {
   "cell_type": "code",
   "execution_count": null,
   "id": "edbb9314-0b2a-41ba-8ef3-29e6477ba185",
   "metadata": {},
   "outputs": [],
   "source": [
    "\n",
    "\n"
   ]
  },
  {
   "cell_type": "markdown",
   "id": "be7525be-f265-4f76-87ed-485257ae163b",
   "metadata": {},
   "source": [
    "Take a look at the `Smarket` dataset which comes from the ISLR2 package (also described in [the book](https://www.statlearning.com/)). "
   ]
  },
  {
   "cell_type": "code",
   "execution_count": null,
   "id": "d3ba55ba-5676-41fd-8bc6-7240fd3efd47",
   "metadata": {},
   "outputs": [],
   "source": [
    "\n",
    "\n"
   ]
  },
  {
   "cell_type": "markdown",
   "id": "d21301bd-10ab-44d6-8acd-bfe751484b90",
   "metadata": {},
   "source": [
    "Let's see if we can predict when the market will be \"Up\" or \"Down\" (see the \"Direction\" variable of `Smarket`). We use the following variables as predictors:\n",
    "\n",
    "- Lag1: *percentage returns from previous before*\n",
    "- Volume: *the number of shares traded on the previous day, in billions*"
   ]
  },
  {
   "cell_type": "markdown",
   "id": "2ea6acbe-da49-4c57-b72e-1fe6ef6a4459",
   "metadata": {},
   "source": [
    "First we need to split our data into training and test subsets. "
   ]
  },
  {
   "cell_type": "markdown",
   "id": "eef5abf1-315e-4d4f-bba8-de7b7b552e63",
   "metadata": {},
   "source": [
    "Plot the number of observations per year using a bar chart."
   ]
  },
  {
   "cell_type": "code",
   "execution_count": null,
   "id": "cc3763aa-0d76-4b14-b681-52ccf76b84de",
   "metadata": {},
   "outputs": [],
   "source": [
    "\n",
    "\n"
   ]
  },
  {
   "cell_type": "markdown",
   "id": "029c530e-5c08-4015-9018-456051a5512a",
   "metadata": {},
   "source": [
    "Run the following cell after substituting `PUT_MOST_RECENT_YEAR_HERE` with a value deduced from the chart above. Why is this a sensible way to split our data?"
   ]
  },
  {
   "cell_type": "code",
   "execution_count": null,
   "id": "1162bde5-4e4f-4ec0-b428-a80c57cb251a",
   "metadata": {},
   "outputs": [],
   "source": [
    "Smarket_train = Smarket |> filter(Year < PUT_MOST_RECENT_YEAR_HERE)\n",
    "\n",
    "Smarket_test = Smarket |> filter(Year == PUT_MOST_RECENT_YEAR_HERE)"
   ]
  },
  {
   "cell_type": "markdown",
   "id": "3ca72053-b339-409e-812a-a76862c2eb80",
   "metadata": {},
   "source": [
    "Generate a model to predict market direction.\n",
    "- Use the `logistic_reg()` function from `tidymodels` and the \"glm\" engine.\n",
    "- Use the training data from above and call your fitted model `mod_fit`.\n",
    "- Use `Direction ~ Volume + Lag1` as the formula."
   ]
  },
  {
   "cell_type": "code",
   "execution_count": null,
   "id": "ef6cc4fd-0cdd-42d3-ada4-cbac7302f67a",
   "metadata": {},
   "outputs": [],
   "source": [
    "\n",
    "\n"
   ]
  },
  {
   "cell_type": "markdown",
   "id": "1273f3dc-4185-4eaa-a6cf-c9c060649523",
   "metadata": {},
   "source": [
    "Run the following code to predict from your test data and generate a [confusion matrix](https://en.wikipedia.org/wiki/Confusion_matrix). When the market is \"Up\" how often does your model predict the same?"
   ]
  },
  {
   "cell_type": "code",
   "execution_count": null,
   "id": "e5b6a335-c752-4399-9e85-89fdbcbdb0d1",
   "metadata": {},
   "outputs": [],
   "source": [
    "augment(mod_fit, Smarket_test) |>\n",
    "    conf_mat(Direction, .pred_class)"
   ]
  },
  {
   "cell_type": "markdown",
   "id": "79c88e08-62a8-4222-96d6-fe638494ed82",
   "metadata": {},
   "source": [
    "Run the following code to calculate the error rate for the model."
   ]
  },
  {
   "cell_type": "code",
   "execution_count": null,
   "id": "c5a4c6ca-a86e-476a-932e-e7034a070e68",
   "metadata": {},
   "outputs": [],
   "source": [
    "augment(mod_fit, Smarket_test) |>\n",
    "    summarize(error_rate = mean(Direction != .pred_class))"
   ]
  },
  {
   "cell_type": "markdown",
   "id": "63839215-ff30-4145-b402-3c318f3d838e",
   "metadata": {},
   "source": [
    "Run the following code to calculate the error rate for a simple model that always predicts \"Up\". Is the error rate better than your logistic regression model?"
   ]
  },
  {
   "cell_type": "code",
   "execution_count": null,
   "id": "5dd8dd5e-5c72-4ee0-ab79-f830c43fbddd",
   "metadata": {},
   "outputs": [],
   "source": [
    "Smarket_test |>\n",
    "    summarise(error_rate = mean(Direction != \"Up\"))"
   ]
  }
 ],
 "metadata": {
  "kernelspec": {
   "display_name": "R",
   "language": "R",
   "name": "ir"
  },
  "language_info": {
   "codemirror_mode": "r",
   "file_extension": ".r",
   "mimetype": "text/x-r-source",
   "name": "R",
   "pygments_lexer": "r",
   "version": "4.2.3"
  }
 },
 "nbformat": 4,
 "nbformat_minor": 5
}
