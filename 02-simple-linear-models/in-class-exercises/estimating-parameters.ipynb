{
 "cells": [
  {
   "cell_type": "markdown",
   "id": "1e6b722f-4076-4ee1-b6d9-31526e89c1f7",
   "metadata": {},
   "source": [
    "Load the `tidyverse` and `palmerpenguins` packages."
   ]
  },
  {
   "cell_type": "code",
   "execution_count": null,
   "id": "378de398-adea-4f69-8113-ba10945f642b",
   "metadata": {},
   "outputs": [],
   "source": [
    "# load package here\n",
    "\n",
    "\n",
    "\n"
   ]
  },
  {
   "cell_type": "code",
   "execution_count": null,
   "id": "68329773-bb9f-4534-a8f1-56524d473d6f",
   "metadata": {},
   "outputs": [],
   "source": [
    "penguins |> glimpse()"
   ]
  },
  {
   "cell_type": "markdown",
   "id": "a0854f9b-9974-46bb-aadd-0b93cd7408d0",
   "metadata": {},
   "source": [
    "Make a data frame called \"adelie\" of penguins data with just \"Adelie\" penguins no missing data.\n",
    "\n",
    "❗️*Hint: pipe your data in to the `drop_na` function to remove missing values*"
   ]
  },
  {
   "cell_type": "code",
   "execution_count": null,
   "id": "361e14aa-ee86-4884-a901-9ffb29e83bf6",
   "metadata": {},
   "outputs": [],
   "source": []
  },
  {
   "cell_type": "markdown",
   "id": "30698220-da50-42ec-9a71-f799ff0e191d",
   "metadata": {},
   "source": [
    "Plot `bill_depth_mm` (y-axis) as a function of `bill_length_mm` (x-axis) for your \"adelie\" dataset."
   ]
  },
  {
   "cell_type": "code",
   "execution_count": null,
   "id": "c414662a-81c8-4c7d-9b43-65e3522897cf",
   "metadata": {},
   "outputs": [],
   "source": []
  },
  {
   "cell_type": "markdown",
   "id": "c91d2c3c-2f7f-4be2-85b3-21856fdc2d33",
   "metadata": {},
   "source": [
    "Run the code below to generate 1000 random models."
   ]
  },
  {
   "cell_type": "code",
   "execution_count": null,
   "id": "089d613f-f617-43b6-986d-58fe8be014fe",
   "metadata": {},
   "outputs": [],
   "source": [
    "n = 1000\n",
    "\n",
    "models = tibble(\n",
    "    intercept = runif(n, 0, 40),\n",
    "    slope = runif(n, -5, 5)\n",
    ")\n",
    "\n",
    "models |> glimpse()"
   ]
  },
  {
   "cell_type": "markdown",
   "id": "0d8d2f16-2f12-43ce-b020-e35a8fe3484a",
   "metadata": {},
   "source": [
    "Re-create your scatter chart from above but this time overlay what the models look like by adding this layer:\n",
    "\n",
    "```r\n",
    "geom_abline(aes(slope = slope, intercept = intercept), data = models, alpha = 0.5, color = 'coral')\n",
    "```"
   ]
  },
  {
   "cell_type": "code",
   "execution_count": null,
   "id": "913c603c-5c0d-4ea2-a672-3df0de60e001",
   "metadata": {},
   "outputs": [],
   "source": []
  },
  {
   "cell_type": "markdown",
   "id": "c69046a7-092f-469b-96b4-e3c1e8a3cc25",
   "metadata": {},
   "source": [
    "What's the best model? Below we create a data frame of models over a range of values for the \"slope\" and \"intercept.\" We also calculate a metric that we can use to rank models. In this case, let's use [sum of squared error](https://en.wikipedia.org/wiki/Residual_sum_of_squares) (SSE)."
   ]
  },
  {
   "cell_type": "code",
   "execution_count": null,
   "id": "a026a549-45ed-43c9-a93e-d6064efd4f64",
   "metadata": {},
   "outputs": [],
   "source": [
    "model_estimate = function(slope, intercept, data) {\n",
    "    slope * data$bill_depth_mm + intercept\n",
    "}\n",
    "\n",
    "sum_of_squared_eror = function(slope, intercept, data) {\n",
    "  diff = data$bill_length_mm - model_estimate(slope, intercept, data)\n",
    "  sum(diff ^ 2)\n",
    "}\n",
    "\n",
    "models2 = expand.grid(\n",
    "  intercept = seq(10, 50, length = 80),\n",
    "  slope = seq(-2.5, 2.5, length = 80)\n",
    ") %>% mutate(sse = purrr::pmap_vec(., sum_of_squared_eror, data = adelie))\n",
    "\n",
    "models2 |> glimpse()"
   ]
  },
  {
   "cell_type": "markdown",
   "id": "0bf0c571-81de-4840-8624-a3d8bc282e9c",
   "metadata": {},
   "source": [
    "Let's plot SSE for all the models we tested and highlight the five best scoring models."
   ]
  },
  {
   "cell_type": "code",
   "execution_count": null,
   "id": "7563de52-32ce-4eed-b9de-243b07b7d570",
   "metadata": {},
   "outputs": [],
   "source": [
    "p = ggplot(models2, aes(slope, intercept, color = sse)) + \n",
    "    geom_point(alpha = 0.5) + \n",
    "    geom_point(data = models2 |> slice_min(sse, n = 5), color = 'steelblue') +\n",
    "    scale_color_viridis_c(option = 'magma', direction = -1)\n",
    "p"
   ]
  },
  {
   "cell_type": "markdown",
   "id": "6b60919c-2a9e-41c4-89e2-b4ce060da2c4",
   "metadata": {},
   "source": [
    "And these are our five best models:"
   ]
  },
  {
   "cell_type": "code",
   "execution_count": null,
   "id": "ed2129a7-317f-473c-9272-752d5047db05",
   "metadata": {},
   "outputs": [],
   "source": [
    "p = ggplot(adelie, aes(x = bill_depth_mm, y = bill_length_mm)) + \n",
    "    geom_point(na.rm = T) +\n",
    "    geom_abline(aes(slope = slope, intercept = intercept), \n",
    "                data = models2 |> slice_min(sse, n = 5), \n",
    "                alpha = 0.5, color = 'coral')\n",
    "\n",
    "p"
   ]
  },
  {
   "cell_type": "markdown",
   "id": "0405dc08-5d55-4a95-9231-5307e979c7d2",
   "metadata": {},
   "source": [
    "Can you build a model with `Tidymodels` to compare with the output above?"
   ]
  },
  {
   "cell_type": "code",
   "execution_count": null,
   "id": "5ca68d20-3f3b-4879-a9be-04999278028a",
   "metadata": {},
   "outputs": [],
   "source": [
    "library('tidymodels')"
   ]
  },
  {
   "cell_type": "code",
   "execution_count": null,
   "id": "308f25e0-edc1-4070-b64a-4225f794a68e",
   "metadata": {},
   "outputs": [],
   "source": [
    "# fill in the formula below\n",
    "mod = linear_reg() |> set_engine('lm')\n",
    "\n",
    "mod_fit = mod |> fit(FORMULA GOES HERE, data = adelie)\n",
    "\n",
    "tidy(mod_fit)"
   ]
  }
 ],
 "metadata": {
  "kernelspec": {
   "display_name": "R",
   "language": "R",
   "name": "ir"
  },
  "language_info": {
   "codemirror_mode": "r",
   "file_extension": ".r",
   "mimetype": "text/x-r-source",
   "name": "R",
   "pygments_lexer": "r",
   "version": "4.3.2"
  }
 },
 "nbformat": 4,
 "nbformat_minor": 5
}
