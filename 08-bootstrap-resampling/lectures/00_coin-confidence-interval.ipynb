{
 "cells": [
  {
   "cell_type": "code",
   "execution_count": null,
   "id": "4fb75dfa-6d45-4673-86da-2347c1201113",
   "metadata": {
    "tags": []
   },
   "outputs": [],
   "source": [
    "library('purrr')\n",
    "library('tidyverse')\n",
    "\n",
    "theme_set(theme_gray(base_size = 16))"
   ]
  },
  {
   "cell_type": "code",
   "execution_count": null,
   "id": "a5f837a3-4a64-4e19-9675-e907470ac8e7",
   "metadata": {
    "tags": []
   },
   "outputs": [],
   "source": [
    "tosses = c(rep('heads', 140), rep('tails', 110))\n",
    "\n",
    "tosses[1:5]"
   ]
  },
  {
   "cell_type": "code",
   "execution_count": null,
   "id": "eeb639c8-ae09-4b84-8826-03d28d77bf6d",
   "metadata": {
    "tags": []
   },
   "outputs": [],
   "source": [
    "length(tosses)"
   ]
  },
  {
   "cell_type": "code",
   "execution_count": null,
   "id": "ac70d0f5-8e34-49f1-a4cb-c43fa53796f5",
   "metadata": {
    "tags": []
   },
   "outputs": [],
   "source": [
    "bootstrap_resample = function(tosses, expected = 125) {\n",
    "    \n",
    "    result = sample(tosses, replace = TRUE)\n",
    "    \n",
    "    result_df = data.frame(outcome = result) |>\n",
    "        count(outcome) |>\n",
    "        filter(outcome == 'heads') |>\n",
    "        mutate(difference_from_expected = n - expected)\n",
    "    \n",
    "    return(result_df)\n",
    "}\n",
    "\n",
    "n_resamplings = 1000\n",
    "\n",
    "samples_df = map_df(1:n_resamplings, ~bootstrap_resample(tosses), .id = 'sample_id')\n",
    "\n",
    "samples_df |> head()"
   ]
  },
  {
   "cell_type": "code",
   "execution_count": null,
   "id": "e89ae8bb-2391-4ec9-8e0f-1f83a6528260",
   "metadata": {
    "tags": []
   },
   "outputs": [],
   "source": [
    "get_percentiles = function(x, q=c(0.025, 0.5, 0.975)) {\n",
    "    tibble(value = quantile(x, q), percentile = q)\n",
    "}\n",
    "\n",
    "percentile_df = samples_df |>\n",
    "    reframe(get_percentiles(difference_from_expected, q=c(0.025, 0.975))) |>\n",
    "    tidyr::pivot_wider(names_from = percentile)\n",
    "    \n",
    "percentile_df"
   ]
  },
  {
   "cell_type": "code",
   "execution_count": null,
   "id": "9593fcac-8070-48b5-82b3-7c4d93c4a8b4",
   "metadata": {
    "tags": []
   },
   "outputs": [],
   "source": [
    "options(repr.plot.width = 7, repr.plot.height = 4)\n",
    "\n",
    "p = ggplot() + \n",
    "    geom_rect(data = percentile_df, \n",
    "              mapping = aes(xmin = `0.025`, xmax = `0.975`, ymin = -Inf, ymax = Inf),\n",
    "              alpha = 0.35, fill = 'MediumAquaMarine') +\n",
    "    geom_histogram(data = samples_df, mapping = aes(x = difference_from_expected)) +\n",
    "    geom_vline(xintercept = 0, color = 'firebrick', linewidth = 1)\n",
    "\n",
    "p"
   ]
  }
 ],
 "metadata": {
  "kernelspec": {
   "display_name": "R",
   "language": "R",
   "name": "ir"
  },
  "language_info": {
   "codemirror_mode": "r",
   "file_extension": ".r",
   "mimetype": "text/x-r-source",
   "name": "R",
   "pygments_lexer": "r",
   "version": "4.2.3"
  }
 },
 "nbformat": 4,
 "nbformat_minor": 5
}
