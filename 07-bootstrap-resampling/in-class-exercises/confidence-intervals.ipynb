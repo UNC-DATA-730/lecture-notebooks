{
 "cells": [
  {
   "cell_type": "markdown",
   "id": "d1b84436-0b67-45b9-8c6c-e0a2815d7470",
   "metadata": {},
   "source": [
    "Run the following cell to load all the required packages..."
   ]
  },
  {
   "cell_type": "code",
   "execution_count": null,
   "id": "435c6e41-9f7c-4d69-a0cc-863ba6317412",
   "metadata": {},
   "outputs": [],
   "source": [
    "library('purrr')\n",
    "library('tidyverse')\n",
    "library('moderndive')\n",
    "library('infer')"
   ]
  },
  {
   "cell_type": "markdown",
   "id": "eac70b98-e1ff-4665-bfe9-ebf797a72f6f",
   "metadata": {},
   "source": [
    "Use `sample_n` to create one sample of 100 balls from the `bowl` data set. Make sure you are sampling **without** replacement. Call your sample `one_sample_bowl`."
   ]
  },
  {
   "cell_type": "code",
   "execution_count": null,
   "id": "bee6a478-aa15-4f19-80f8-73e015094ac5",
   "metadata": {},
   "outputs": [],
   "source": [
    "\n",
    "\n"
   ]
  },
  {
   "cell_type": "markdown",
   "id": "2d6e7099-b849-46c2-b139-420d52d23ce1",
   "metadata": {},
   "source": [
    "With bootstrap resampling we can calculate a confidence interval for the proportion of red balls even though we only have one sample."
   ]
  },
  {
   "cell_type": "markdown",
   "id": "308c662a-d231-4afb-82ae-052ec6055829",
   "metadata": {},
   "source": [
    "To find a confidence interval,\n",
    "\n",
    "1. use `rep_sample_n` with `replace = TRUE` to compute 1000 bootstrap replicates from your `one_sample_bowl` table. Each bootstrap should be the same size as your original sample.\n",
    "2. `group_by` the replicate column, and,\n",
    "3. find the proportion of red balls in each bootstrap replicate group using `summarize`.\n",
    "4. Last, find the confidence interval bounds using this code snippet:\n",
    "\n",
    "```r\n",
    "summarize(\n",
    "    lower_ci = quantile(prop_red, 0.025), \n",
    "    upper_ci = quantile(prop_red, 0.975)\n",
    ")\n",
    "```"
   ]
  },
  {
   "cell_type": "code",
   "execution_count": null,
   "id": "f5651134-da3e-4f74-9be1-3113b4ddf722",
   "metadata": {},
   "outputs": [],
   "source": [
    "\n",
    "\n"
   ]
  },
  {
   "cell_type": "markdown",
   "id": "c397a66b-7214-46fa-9289-5de2fa8216c5",
   "metadata": {},
   "source": [
    "Is the true value (i.e. the actual proportion of red balls in `bowl`) inside your confidence interval?"
   ]
  },
  {
   "cell_type": "code",
   "execution_count": null,
   "id": "d07371c4-4280-4e98-bf27-9a7311999b5b",
   "metadata": {},
   "outputs": [],
   "source": [
    "\n",
    "\n"
   ]
  },
  {
   "cell_type": "markdown",
   "id": "33aced77-3b6c-4df7-8dd0-6387bada4fa2",
   "metadata": {},
   "source": [
    "**Let's do the same thing as above for 1,000 iterations...**"
   ]
  },
  {
   "cell_type": "markdown",
   "id": "db4135ae-19bc-444a-ac5d-9108c7a11be6",
   "metadata": {},
   "source": [
    "Execute the following code. This runs the *sample* plus *bootstrap resample* steps 1,000 times and captures the output in a dataframe called `bowl_ci_data`. Each row in `bowl_ci_data` holds a confidence interval created from a sample of size 100 and 1,000 bootstrap resamples."
   ]
  },
  {
   "cell_type": "code",
   "execution_count": null,
   "id": "471ac1bc-012e-406e-8294-de36655a20a8",
   "metadata": {},
   "outputs": [],
   "source": [
    "bowl_samples = rep_sample_n(bowl, replace = FALSE, size = 100, reps = 1000) |>\n",
    "    rename(original_sample = replicate)\n",
    "\n",
    "bowl_ci_data = bowl_samples |> \n",
    "    group_by(original_sample) |>\n",
    "    group_split() |> \n",
    "    map_dfr(\n",
    "        ~rep_sample_n(.x, replace = TRUE, size = 100, reps = 1000) |>\n",
    "            rename(bs_sample = replicate) |>\n",
    "            group_by(original_sample, bs_sample) |>\n",
    "            summarize(prop_red = sum(color == 'red') / n(), .groups = 'drop') |>\n",
    "            group_by(original_sample) |>\n",
    "            summarize(\n",
    "                lower_ci = quantile(prop_red, 0.025), \n",
    "                upper_ci = quantile(prop_red, 0.975),\n",
    "            )\n",
    "    )"
   ]
  },
  {
   "cell_type": "markdown",
   "id": "cc439620-5b2a-46f4-8e5d-e86ec3b60198",
   "metadata": {},
   "source": [
    "Use `geom_segment()` to plot 100 confidence intervals. Add a vertical line showing the position of the \"true value.\"\n",
    "\n",
    "**HINT:**\n",
    "- you can use `sample_n` to select only 100 CIs from `bowl_ci_data`, and,\n",
    "- you can use `mutate(y_pos = row_number())` to get a column to map to `y` in your chart.\n",
    "\n",
    "**[Here is an example chart](https://raw.githubusercontent.com/UNC-DATA-730/lecture-notebooks/main/07-bootstrap-resampling/in-class-exercises/ci_plot_example.png)**"
   ]
  },
  {
   "cell_type": "code",
   "execution_count": null,
   "id": "bf020ec8-ffbe-4903-92b7-31d1b7df444f",
   "metadata": {},
   "outputs": [],
   "source": [
    "\n",
    "\n"
   ]
  },
  {
   "cell_type": "markdown",
   "id": "b33e6853-7d17-4cdc-a350-deb748e43a98",
   "metadata": {},
   "source": [
    "`mutate(inside_ci = lower_ci <= 0.375 & upper_ci >= 0.375)` determines if a confidence interval in `bowl_ci_data` holds the \"true value.\" Combine this `mutate` operation with `summarize` to calculate the proportion of confidence intervals that contain the true value."
   ]
  },
  {
   "cell_type": "code",
   "execution_count": null,
   "id": "a615ca48-607e-4027-b2f8-23c9204062aa",
   "metadata": {},
   "outputs": [],
   "source": [
    "\n",
    "\n"
   ]
  },
  {
   "cell_type": "markdown",
   "id": "c19429bc-7b94-4630-aa57-4203388f6be3",
   "metadata": {},
   "source": [
    "Does this value make sense? Consider that we are calculating 95% confidence intervals in this exercise..."
   ]
  },
  {
   "cell_type": "code",
   "execution_count": null,
   "id": "0a5676b9-a46d-40e3-ab59-d8c72d1e5a04",
   "metadata": {},
   "outputs": [],
   "source": [
    "\n",
    "\n"
   ]
  }
 ],
 "metadata": {
  "kernelspec": {
   "display_name": "R",
   "language": "R",
   "name": "ir"
  },
  "language_info": {
   "codemirror_mode": "r",
   "file_extension": ".r",
   "mimetype": "text/x-r-source",
   "name": "R",
   "pygments_lexer": "r",
   "version": "4.2.3"
  }
 },
 "nbformat": 4,
 "nbformat_minor": 5
}
