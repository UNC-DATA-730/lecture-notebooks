{
 "cells": [
  {
   "cell_type": "code",
   "execution_count": 1,
   "id": "86a30c7d-3f60-418e-b6a3-beb662f0d460",
   "metadata": {},
   "outputs": [
    {
     "name": "stderr",
     "output_type": "stream",
     "text": [
      "── \u001b[1mAttaching core tidyverse packages\u001b[22m ────────────────────────────────────────────────────────────────────────────────────────────── tidyverse 2.0.0 ──\n",
      "\u001b[32m✔\u001b[39m \u001b[34mdplyr    \u001b[39m 1.1.4     \u001b[32m✔\u001b[39m \u001b[34mreadr    \u001b[39m 2.1.5\n",
      "\u001b[32m✔\u001b[39m \u001b[34mforcats  \u001b[39m 1.0.0     \u001b[32m✔\u001b[39m \u001b[34mstringr  \u001b[39m 1.5.1\n",
      "\u001b[32m✔\u001b[39m \u001b[34mggplot2  \u001b[39m 3.5.1     \u001b[32m✔\u001b[39m \u001b[34mtibble   \u001b[39m 3.2.1\n",
      "\u001b[32m✔\u001b[39m \u001b[34mlubridate\u001b[39m 1.9.3     \u001b[32m✔\u001b[39m \u001b[34mtidyr    \u001b[39m 1.3.1\n",
      "\u001b[32m✔\u001b[39m \u001b[34mpurrr    \u001b[39m 1.0.2     \n",
      "── \u001b[1mConflicts\u001b[22m ──────────────────────────────────────────────────────────────────────────────────────────────────────────────── tidyverse_conflicts() ──\n",
      "\u001b[31m✖\u001b[39m \u001b[34mdplyr\u001b[39m::\u001b[32mfilter()\u001b[39m masks \u001b[34mstats\u001b[39m::filter()\n",
      "\u001b[31m✖\u001b[39m \u001b[34mdplyr\u001b[39m::\u001b[32mlag()\u001b[39m    masks \u001b[34mstats\u001b[39m::lag()\n",
      "\u001b[36mℹ\u001b[39m Use the conflicted package (\u001b[3m\u001b[34m<http://conflicted.r-lib.org/>\u001b[39m\u001b[23m) to force all conflicts to become errors\n"
     ]
    }
   ],
   "source": [
    "library('moderndive')\n",
    "library('tidyverse')\n",
    "library('purrr')"
   ]
  },
  {
   "cell_type": "markdown",
   "id": "ca34f88d-dbb7-4e4b-a593-45712ce0ec5d",
   "metadata": {},
   "source": [
    "## Confidence interval"
   ]
  },
  {
   "cell_type": "code",
   "execution_count": 2,
   "id": "80f96324-7c89-4d5f-8b5e-a501ce2bd41c",
   "metadata": {},
   "outputs": [
    {
     "data": {
      "text/html": [
       "<table class=\"dataframe\">\n",
       "<caption>A data.frame: 20 × 1</caption>\n",
       "<thead>\n",
       "\t<tr><th></th><th scope=col>toss</th></tr>\n",
       "\t<tr><th></th><th scope=col>&lt;chr&gt;</th></tr>\n",
       "</thead>\n",
       "<tbody>\n",
       "\t<tr><th scope=row>1</th><td>tails</td></tr>\n",
       "\t<tr><th scope=row>2</th><td>tails</td></tr>\n",
       "\t<tr><th scope=row>3</th><td>tails</td></tr>\n",
       "\t<tr><th scope=row>4</th><td>heads</td></tr>\n",
       "\t<tr><th scope=row>5</th><td>heads</td></tr>\n",
       "\t<tr><th scope=row>6</th><td>heads</td></tr>\n",
       "\t<tr><th scope=row>7</th><td>tails</td></tr>\n",
       "\t<tr><th scope=row>8</th><td>heads</td></tr>\n",
       "\t<tr><th scope=row>9</th><td>tails</td></tr>\n",
       "\t<tr><th scope=row>10</th><td>heads</td></tr>\n",
       "\t<tr><th scope=row>11</th><td>heads</td></tr>\n",
       "\t<tr><th scope=row>12</th><td>heads</td></tr>\n",
       "\t<tr><th scope=row>13</th><td>tails</td></tr>\n",
       "\t<tr><th scope=row>14</th><td>tails</td></tr>\n",
       "\t<tr><th scope=row>15</th><td>heads</td></tr>\n",
       "\t<tr><th scope=row>16</th><td>tails</td></tr>\n",
       "\t<tr><th scope=row>17</th><td>heads</td></tr>\n",
       "\t<tr><th scope=row>18</th><td>heads</td></tr>\n",
       "\t<tr><th scope=row>19</th><td>heads</td></tr>\n",
       "\t<tr><th scope=row>20</th><td>tails</td></tr>\n",
       "</tbody>\n",
       "</table>\n"
      ],
      "text/latex": [
       "A data.frame: 20 × 1\n",
       "\\begin{tabular}{r|l}\n",
       "  & toss\\\\\n",
       "  & <chr>\\\\\n",
       "\\hline\n",
       "\t1 & tails\\\\\n",
       "\t2 & tails\\\\\n",
       "\t3 & tails\\\\\n",
       "\t4 & heads\\\\\n",
       "\t5 & heads\\\\\n",
       "\t6 & heads\\\\\n",
       "\t7 & tails\\\\\n",
       "\t8 & heads\\\\\n",
       "\t9 & tails\\\\\n",
       "\t10 & heads\\\\\n",
       "\t11 & heads\\\\\n",
       "\t12 & heads\\\\\n",
       "\t13 & tails\\\\\n",
       "\t14 & tails\\\\\n",
       "\t15 & heads\\\\\n",
       "\t16 & tails\\\\\n",
       "\t17 & heads\\\\\n",
       "\t18 & heads\\\\\n",
       "\t19 & heads\\\\\n",
       "\t20 & tails\\\\\n",
       "\\end{tabular}\n"
      ],
      "text/markdown": [
       "\n",
       "A data.frame: 20 × 1\n",
       "\n",
       "| <!--/--> | toss &lt;chr&gt; |\n",
       "|---|---|\n",
       "| 1 | tails |\n",
       "| 2 | tails |\n",
       "| 3 | tails |\n",
       "| 4 | heads |\n",
       "| 5 | heads |\n",
       "| 6 | heads |\n",
       "| 7 | tails |\n",
       "| 8 | heads |\n",
       "| 9 | tails |\n",
       "| 10 | heads |\n",
       "| 11 | heads |\n",
       "| 12 | heads |\n",
       "| 13 | tails |\n",
       "| 14 | tails |\n",
       "| 15 | heads |\n",
       "| 16 | tails |\n",
       "| 17 | heads |\n",
       "| 18 | heads |\n",
       "| 19 | heads |\n",
       "| 20 | tails |\n",
       "\n"
      ],
      "text/plain": [
       "   toss \n",
       "1  tails\n",
       "2  tails\n",
       "3  tails\n",
       "4  heads\n",
       "5  heads\n",
       "6  heads\n",
       "7  tails\n",
       "8  heads\n",
       "9  tails\n",
       "10 heads\n",
       "11 heads\n",
       "12 heads\n",
       "13 tails\n",
       "14 tails\n",
       "15 heads\n",
       "16 tails\n",
       "17 heads\n",
       "18 heads\n",
       "19 heads\n",
       "20 tails"
      ]
     },
     "metadata": {},
     "output_type": "display_data"
    }
   ],
   "source": [
    "heads_140 = data.frame(\n",
    "    toss = c(rep('heads', 140), rep('tails', 250 - 140)) |> sample()\n",
    ")\n",
    "\n",
    "heads_140 |> head(20)"
   ]
  },
  {
   "cell_type": "markdown",
   "id": "f01034cb-fc91-4326-ab85-c60fab372a44",
   "metadata": {},
   "source": [
    "The `heads_140` table holds our toss data (140 observed \"heads\" in 250 tosses) "
   ]
  },
  {
   "cell_type": "code",
   "execution_count": 3,
   "id": "895f005d-3ac7-43ab-99ce-71ac9f27948e",
   "metadata": {},
   "outputs": [
    {
     "data": {
      "text/html": [
       "<table class=\"dataframe\">\n",
       "<caption>A data.frame: 2 × 2</caption>\n",
       "<thead>\n",
       "\t<tr><th scope=col>toss</th><th scope=col>n</th></tr>\n",
       "\t<tr><th scope=col>&lt;chr&gt;</th><th scope=col>&lt;int&gt;</th></tr>\n",
       "</thead>\n",
       "<tbody>\n",
       "\t<tr><td>heads</td><td>140</td></tr>\n",
       "\t<tr><td>tails</td><td>110</td></tr>\n",
       "</tbody>\n",
       "</table>\n"
      ],
      "text/latex": [
       "A data.frame: 2 × 2\n",
       "\\begin{tabular}{ll}\n",
       " toss & n\\\\\n",
       " <chr> & <int>\\\\\n",
       "\\hline\n",
       "\t heads & 140\\\\\n",
       "\t tails & 110\\\\\n",
       "\\end{tabular}\n"
      ],
      "text/markdown": [
       "\n",
       "A data.frame: 2 × 2\n",
       "\n",
       "| toss &lt;chr&gt; | n &lt;int&gt; |\n",
       "|---|---|\n",
       "| heads | 140 |\n",
       "| tails | 110 |\n",
       "\n"
      ],
      "text/plain": [
       "  toss  n  \n",
       "1 heads 140\n",
       "2 tails 110"
      ]
     },
     "metadata": {},
     "output_type": "display_data"
    }
   ],
   "source": [
    "heads_140 |> count(toss)"
   ]
  },
  {
   "cell_type": "markdown",
   "id": "718d5da4-4fba-4fd6-b734-8072b3b4996e",
   "metadata": {},
   "source": [
    "We can use bootstrap resampling to approximate the sampling variability."
   ]
  },
  {
   "cell_type": "code",
   "execution_count": 4,
   "id": "8dc39e89-88da-4d9e-9b53-7cbe0b0c1929",
   "metadata": {},
   "outputs": [
    {
     "data": {
      "text/html": [
       "<table class=\"dataframe\">\n",
       "<caption>A grouped_df: 6 × 2</caption>\n",
       "<thead>\n",
       "\t<tr><th scope=col>replicate</th><th scope=col>toss</th></tr>\n",
       "\t<tr><th scope=col>&lt;int&gt;</th><th scope=col>&lt;chr&gt;</th></tr>\n",
       "</thead>\n",
       "<tbody>\n",
       "\t<tr><td>1</td><td>tails</td></tr>\n",
       "\t<tr><td>1</td><td>heads</td></tr>\n",
       "\t<tr><td>1</td><td>heads</td></tr>\n",
       "\t<tr><td>1</td><td>heads</td></tr>\n",
       "\t<tr><td>1</td><td>tails</td></tr>\n",
       "\t<tr><td>1</td><td>tails</td></tr>\n",
       "</tbody>\n",
       "</table>\n"
      ],
      "text/latex": [
       "A grouped\\_df: 6 × 2\n",
       "\\begin{tabular}{ll}\n",
       " replicate & toss\\\\\n",
       " <int> & <chr>\\\\\n",
       "\\hline\n",
       "\t 1 & tails\\\\\n",
       "\t 1 & heads\\\\\n",
       "\t 1 & heads\\\\\n",
       "\t 1 & heads\\\\\n",
       "\t 1 & tails\\\\\n",
       "\t 1 & tails\\\\\n",
       "\\end{tabular}\n"
      ],
      "text/markdown": [
       "\n",
       "A grouped_df: 6 × 2\n",
       "\n",
       "| replicate &lt;int&gt; | toss &lt;chr&gt; |\n",
       "|---|---|\n",
       "| 1 | tails |\n",
       "| 1 | heads |\n",
       "| 1 | heads |\n",
       "| 1 | heads |\n",
       "| 1 | tails |\n",
       "| 1 | tails |\n",
       "\n"
      ],
      "text/plain": [
       "  replicate toss \n",
       "1 1         tails\n",
       "2 1         heads\n",
       "3 1         heads\n",
       "4 1         heads\n",
       "5 1         tails\n",
       "6 1         tails"
      ]
     },
     "metadata": {},
     "output_type": "display_data"
    }
   ],
   "source": [
    "# create 1,000 bootstrap replicates \n",
    "heads_140_bs = rep_sample_n(heads_140, replace = T, reps = 1000, size = 250)\n",
    "\n",
    "heads_140_bs |> head()"
   ]
  },
  {
   "cell_type": "markdown",
   "id": "51145427-2231-4a31-a48c-866b4740c50a",
   "metadata": {},
   "source": [
    "For each bootstrap replicate we calculate the number of observed heads."
   ]
  },
  {
   "cell_type": "code",
   "execution_count": 5,
   "id": "0a4549ea-9143-4bea-bcfd-dd3d6653500b",
   "metadata": {},
   "outputs": [
    {
     "data": {
      "text/html": [
       "<table class=\"dataframe\">\n",
       "<caption>A tibble: 6 × 3</caption>\n",
       "<thead>\n",
       "\t<tr><th scope=col>replicate</th><th scope=col>n_heads</th><th scope=col>deviation</th></tr>\n",
       "\t<tr><th scope=col>&lt;int&gt;</th><th scope=col>&lt;int&gt;</th><th scope=col>&lt;dbl&gt;</th></tr>\n",
       "</thead>\n",
       "<tbody>\n",
       "\t<tr><td>1</td><td>141</td><td>16</td></tr>\n",
       "\t<tr><td>2</td><td>140</td><td>15</td></tr>\n",
       "\t<tr><td>3</td><td>133</td><td> 8</td></tr>\n",
       "\t<tr><td>4</td><td>145</td><td>20</td></tr>\n",
       "\t<tr><td>5</td><td>143</td><td>18</td></tr>\n",
       "\t<tr><td>6</td><td>132</td><td> 7</td></tr>\n",
       "</tbody>\n",
       "</table>\n"
      ],
      "text/latex": [
       "A tibble: 6 × 3\n",
       "\\begin{tabular}{lll}\n",
       " replicate & n\\_heads & deviation\\\\\n",
       " <int> & <int> & <dbl>\\\\\n",
       "\\hline\n",
       "\t 1 & 141 & 16\\\\\n",
       "\t 2 & 140 & 15\\\\\n",
       "\t 3 & 133 &  8\\\\\n",
       "\t 4 & 145 & 20\\\\\n",
       "\t 5 & 143 & 18\\\\\n",
       "\t 6 & 132 &  7\\\\\n",
       "\\end{tabular}\n"
      ],
      "text/markdown": [
       "\n",
       "A tibble: 6 × 3\n",
       "\n",
       "| replicate &lt;int&gt; | n_heads &lt;int&gt; | deviation &lt;dbl&gt; |\n",
       "|---|---|---|\n",
       "| 1 | 141 | 16 |\n",
       "| 2 | 140 | 15 |\n",
       "| 3 | 133 |  8 |\n",
       "| 4 | 145 | 20 |\n",
       "| 5 | 143 | 18 |\n",
       "| 6 | 132 |  7 |\n",
       "\n"
      ],
      "text/plain": [
       "  replicate n_heads deviation\n",
       "1 1         141     16       \n",
       "2 2         140     15       \n",
       "3 3         133      8       \n",
       "4 4         145     20       \n",
       "5 5         143     18       \n",
       "6 6         132      7       "
      ]
     },
     "metadata": {},
     "output_type": "display_data"
    }
   ],
   "source": [
    "heads_140_bs_count = heads_140_bs |>\n",
    "    group_by(replicate) |>\n",
    "    summarize(n_heads = sum(toss == 'heads')) |>\n",
    "    mutate(deviation = n_heads - 125)\n",
    "\n",
    "heads_140_bs_count |> head()"
   ]
  },
  {
   "cell_type": "code",
   "execution_count": 6,
   "id": "f0b847e2-e879-4734-a536-612b56d16b64",
   "metadata": {},
   "outputs": [
    {
     "data": {
      "text/html": [
       "1000"
      ],
      "text/latex": [
       "1000"
      ],
      "text/markdown": [
       "1000"
      ],
      "text/plain": [
       "[1] 1000"
      ]
     },
     "metadata": {},
     "output_type": "display_data"
    }
   ],
   "source": [
    "heads_140_bs_count |> nrow()"
   ]
  },
  {
   "cell_type": "code",
   "execution_count": 7,
   "id": "7eebb8fa-5ea1-4414-b646-aa2d73b7884a",
   "metadata": {},
   "outputs": [
    {
     "name": "stderr",
     "output_type": "stream",
     "text": [
      "\u001b[1m\u001b[22m`stat_bin()` using `bins = 30`. Pick better value with `binwidth`.\n"
     ]
    },
    {
     "data": {
      "image/png": "[encoded data removed]",
      "text/plain": [
       "plot without title"
      ]
     },
     "metadata": {
      "image/png": {
       "height": 250,
       "width": 750
      }
     },
     "output_type": "display_data"
    }
   ],
   "source": [
    "options(repr.plot.width = 6, repr.plot.height = 2, repr.plot.res = 250)\n",
    "ggplot(heads_140_bs_count, aes(x = deviation)) +\n",
    "    geom_histogram()"
   ]
  },
  {
   "cell_type": "markdown",
   "id": "aebb43fe-c682-4fbe-a156-fec434c2d81d",
   "metadata": {},
   "source": [
    "The \"confidence interval\" for our observation (140 heads) is below. \n",
    "\n",
    "**The interval contains zero (i.e. zero is within our interval, how should we interpret this observation?**"
   ]
  },
  {
   "cell_type": "code",
   "execution_count": 8,
   "id": "7c4fd032-d30f-4151-bda7-3fe699f6b451",
   "metadata": {},
   "outputs": [
    {
     "data": {
      "text/html": [
       "<table class=\"dataframe\">\n",
       "<caption>A tibble: 1 × 2</caption>\n",
       "<thead>\n",
       "\t<tr><th scope=col>lower_ci</th><th scope=col>upper_ci</th></tr>\n",
       "\t<tr><th scope=col>&lt;dbl&gt;</th><th scope=col>&lt;dbl&gt;</th></tr>\n",
       "</thead>\n",
       "<tbody>\n",
       "\t<tr><td>-0.025</td><td>30</td></tr>\n",
       "</tbody>\n",
       "</table>\n"
      ],
      "text/latex": [
       "A tibble: 1 × 2\n",
       "\\begin{tabular}{ll}\n",
       " lower\\_ci & upper\\_ci\\\\\n",
       " <dbl> & <dbl>\\\\\n",
       "\\hline\n",
       "\t -0.025 & 30\\\\\n",
       "\\end{tabular}\n"
      ],
      "text/markdown": [
       "\n",
       "A tibble: 1 × 2\n",
       "\n",
       "| lower_ci &lt;dbl&gt; | upper_ci &lt;dbl&gt; |\n",
       "|---|---|\n",
       "| -0.025 | 30 |\n",
       "\n"
      ],
      "text/plain": [
       "     lower_ci upper_ci\n",
       "2.5% -0.025   30      "
      ]
     },
     "metadata": {},
     "output_type": "display_data"
    }
   ],
   "source": [
    "heads_140_bs_count |> \n",
    "    summarize(\n",
    "        lower_ci = quantile(deviation, 0.025),\n",
    "        upper_ci = quantile(deviation, 0.975)\n",
    "    )"
   ]
  }
 ],
 "metadata": {
  "kernelspec": {
   "display_name": "R",
   "language": "R",
   "name": "ir"
  },
  "language_info": {
   "codemirror_mode": "r",
   "file_extension": ".r",
   "mimetype": "text/x-r-source",
   "name": "R",
   "pygments_lexer": "r",
   "version": "4.2.3"
  }
 },
 "nbformat": 4,
 "nbformat_minor": 5
}
