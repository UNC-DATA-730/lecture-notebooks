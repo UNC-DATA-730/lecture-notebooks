{
 "cells": [
  {
   "cell_type": "markdown",
   "id": "b4d0785d-0167-4601-bbca-bd2da03d14b1",
   "metadata": {},
   "source": [
    "Load 📈`tidymodels` and the 🐧`palmerpenguins` packages"
   ]
  },
  {
   "cell_type": "code",
   "execution_count": null,
   "id": "1b590c82-30fc-4512-a423-dc57f2faaf87",
   "metadata": {},
   "outputs": [],
   "source": [
    "\n",
    "\n"
   ]
  },
  {
   "cell_type": "markdown",
   "id": "65de5c4a-474f-40ce-a35f-09aa90ed8fae",
   "metadata": {},
   "source": [
    "Let's model penguin bill length using bill depth and penguin species as explanatory variables."
   ]
  },
  {
   "cell_type": "markdown",
   "id": "330d3140-3bbc-4362-a9f7-490e9324b3d9",
   "metadata": {},
   "source": [
    "First we need to prepare our training data for the model. We can use a `tidymodels` recipe for this..."
   ]
  },
  {
   "cell_type": "markdown",
   "id": "1c3ce203-3350-48d0-ab64-74c9ddbe733d",
   "metadata": {},
   "source": [
    "Create a `recipe` that dummy encodes the `species` variable. Make sure to \"prep\" your recipe. Use `juice` and `glimpse` to inspect your training data.\n"
   ]
  },
  {
   "cell_type": "code",
   "execution_count": null,
   "id": "615e0098-8068-4eff-86ea-a2042ea1f01d",
   "metadata": {},
   "outputs": [],
   "source": [
    "# Hint the initial formula will be bill_length_mm ~ bill_depth_mm + species\n",
    "\n",
    "rec = recipe(<FILL IN THE ARUGMENTS>) |>\n",
    "    step_naomit(everything()) |>\n",
    "    step_<FINISH THE NAME OF THIS FUNCTION AND ADD THE ARGUMENT> |>\n",
    "    prep()\n",
    "\n",
    "rec |> juice() |> glimpse()"
   ]
  },
  {
   "cell_type": "markdown",
   "id": "cdd80a67-99cb-4953-9770-370618d43257",
   "metadata": {},
   "source": [
    "Now let's build train a linear model with our data from above"
   ]
  },
  {
   "cell_type": "code",
   "execution_count": null,
   "id": "c5c6430a-f65a-4154-8a32-23bef8d585de",
   "metadata": {},
   "outputs": [],
   "source": [
    "# Hint the formula will be bill_length_mm ~ .\n",
    "\n",
    "\n"
   ]
  },
  {
   "cell_type": "markdown",
   "id": "898aee0f-c2d8-44c9-b51a-4e99e53b769e",
   "metadata": {},
   "source": [
    "Use the `tidy` function to report the model parameters."
   ]
  },
  {
   "cell_type": "code",
   "execution_count": null,
   "id": "476985d2-ee4f-40ab-a6fa-928d6a1bc7ed",
   "metadata": {},
   "outputs": [],
   "source": [
    "\n",
    "\n"
   ]
  },
  {
   "cell_type": "markdown",
   "id": "6b8e97dd-fb2d-42ac-97b2-0093296702a8",
   "metadata": {},
   "source": [
    "Run the code below to visualize the model."
   ]
  },
  {
   "cell_type": "code",
   "execution_count": null,
   "id": "4b3bd28c-b1a4-410b-856b-1037acae9452",
   "metadata": {},
   "outputs": [],
   "source": [
    "p = ggplot(penguins, aes(x = bill_depth_mm, y = bill_length_mm, color = species)) +\n",
    "    geom_point(na.rm = T) +\n",
    "    scale_color_brewer(palette = 'Set2') +\n",
    "    # geom_smooth(method = \"lm\")\n",
    "    moderndive::geom_parallel_slopes()\n",
    "\n",
    "p"
   ]
  },
  {
   "cell_type": "markdown",
   "id": "5a53384d-c7a2-4e9b-a8de-37a7a5f4fc09",
   "metadata": {},
   "source": [
    "Copy your cell from above with your \"recipe\" code and paste it below. **Add a step to make an interaction variable (use `step_interact(~ bill_depth_mm:starts_with(\"species\"))`)** "
   ]
  },
  {
   "cell_type": "code",
   "execution_count": null,
   "id": "61a8b084-8c03-43d6-a8b3-4749d6a49507",
   "metadata": {},
   "outputs": [],
   "source": [
    "\n",
    "\n"
   ]
  },
  {
   "cell_type": "markdown",
   "id": "583d2d53-e078-4f9b-8895-1d3cd9a836af",
   "metadata": {},
   "source": [
    "Build your model with the interaction variable."
   ]
  },
  {
   "cell_type": "code",
   "execution_count": null,
   "id": "2e3bc6ae-4909-4973-927f-b3ccd8cb2e34",
   "metadata": {},
   "outputs": [],
   "source": [
    "\n",
    "\n"
   ]
  },
  {
   "cell_type": "markdown",
   "id": "d693ab01-e8fe-4662-8f7c-00ac93e10d4c",
   "metadata": {},
   "source": [
    "Visualize the model with the following code:"
   ]
  },
  {
   "cell_type": "code",
   "execution_count": null,
   "id": "b2682fa7-d2f5-424b-aa67-4d699be63423",
   "metadata": {},
   "outputs": [],
   "source": [
    "p = ggplot(penguins, aes(x = bill_depth_mm, y = bill_length_mm, color = species)) +\n",
    "    geom_point(na.rm = T) +\n",
    "    scale_color_brewer(palette = 'Set2') +\n",
    "    geom_smooth(method = \"lm\")\n",
    "    # moderndive::geom_parallel_slopes()\n",
    "\n",
    "p"
   ]
  },
  {
   "cell_type": "markdown",
   "id": "958683e7-97ba-4e82-a3c9-a769d47adfe3",
   "metadata": {},
   "source": [
    "Which model do you prefer?"
   ]
  },
  {
   "cell_type": "markdown",
   "id": "537dd862-9c24-4848-86af-ebaf4005b842",
   "metadata": {},
   "source": [
    "You can use glance to find some model metrics. E.g.\n",
    "\n",
    "```r\n",
    "glance(mod_fit)\n",
    "```"
   ]
  },
  {
   "cell_type": "markdown",
   "id": "161d725e-aa2d-45f1-904d-9a4321306d40",
   "metadata": {},
   "source": [
    "How do the models compare with respect to adjusted coefficient of determination?"
   ]
  },
  {
   "cell_type": "code",
   "execution_count": null,
   "id": "fb29a982-6fb1-47b3-8019-273863698ece",
   "metadata": {},
   "outputs": [],
   "source": [
    "\n",
    "\n"
   ]
  }
 ],
 "metadata": {
  "kernelspec": {
   "display_name": "R",
   "language": "R",
   "name": "ir"
  },
  "language_info": {
   "codemirror_mode": "r",
   "file_extension": ".r",
   "mimetype": "text/x-r-source",
   "name": "R",
   "pygments_lexer": "r",
   "version": "4.2.3"
  }
 },
 "nbformat": 4,
 "nbformat_minor": 5
}
