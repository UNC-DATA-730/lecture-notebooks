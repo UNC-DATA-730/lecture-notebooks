{
 "cells": [
  {
   "cell_type": "code",
   "execution_count": null,
   "id": "b35a27b0-7201-402e-b8d1-27e0b6b3ab9f",
   "metadata": {
    "tags": []
   },
   "outputs": [],
   "source": [
    "library('palmerpenguins')\n",
    "library('tidymodels')\n",
    "library('tidyverse')\n",
    "\n",
    "theme_set(theme_grey(base_size = 14))"
   ]
  },
  {
   "cell_type": "markdown",
   "id": "161a49f5-26a5-4fb3-9872-e6d76b95207f",
   "metadata": {},
   "source": [
    "## One categorical and one continuous explanatory predictor"
   ]
  },
  {
   "cell_type": "code",
   "execution_count": null,
   "id": "d534bf8a-b11f-44f6-85ef-077c6724fbc8",
   "metadata": {
    "tags": []
   },
   "outputs": [],
   "source": [
    "penguins2 = penguins |>\n",
    "    filter(species %in% c('Adelie', 'Gentoo')) |>\n",
    "    select(bill_depth_mm, species, bill_length_mm) |>\n",
    "    mutate(species = forcats::fct_drop(species)) |>\n",
    "    drop_na()\n",
    "\n",
    "penguins2 |> head()"
   ]
  },
  {
   "cell_type": "code",
   "execution_count": null,
   "id": "014e51ff-0d23-4dfd-80ad-8e15a8c869bf",
   "metadata": {
    "tags": []
   },
   "outputs": [],
   "source": [
    "rec = recipe(bill_length_mm ~ species + bill_depth_mm, data = penguins2) |>\n",
    "    step_dummy(species)\n",
    "\n",
    "rec"
   ]
  },
  {
   "cell_type": "code",
   "execution_count": null,
   "id": "582c4627-e293-456a-87dc-73bad160a510",
   "metadata": {
    "tags": []
   },
   "outputs": [],
   "source": [
    "rec_prepped  = prep(rec, penguins2) \n",
    "\n",
    "rec_prepped |> \n",
    "    juice() |>\n",
    "    head()"
   ]
  },
  {
   "cell_type": "code",
   "execution_count": null,
   "id": "19a499f2-1a9e-44d5-9c81-44114bcdeb8a",
   "metadata": {
    "tags": []
   },
   "outputs": [],
   "source": [
    "mod = linear_reg() |> set_engine('lm')"
   ]
  },
  {
   "cell_type": "code",
   "execution_count": null,
   "id": "d86716ae-cc37-48bf-a387-6e222614feda",
   "metadata": {
    "tags": []
   },
   "outputs": [],
   "source": [
    "mod_fit = mod |> fit(bill_length_mm ~ ., data = juice(rec_prepped))\n",
    "\n",
    "tidy(mod_fit)"
   ]
  },
  {
   "cell_type": "code",
   "execution_count": null,
   "id": "c8463203-1bdf-4eed-b251-c4069f8f25c9",
   "metadata": {
    "tags": []
   },
   "outputs": [],
   "source": [
    "penguins2_with_pred = augment(mod_fit, juice(rec_prepped))\n",
    "\n",
    "penguins2_with_pred |> head()"
   ]
  },
  {
   "cell_type": "code",
   "execution_count": null,
   "id": "6d3da53f-d16d-4fe4-a61d-9866406f6d2f",
   "metadata": {
    "tags": []
   },
   "outputs": [],
   "source": [
    "options(repr.plot.height = 4, repr.plot.width = 6)\n",
    "\n",
    "ggplot(penguins2_with_pred) +\n",
    "    geom_point(aes(x = bill_depth_mm, y = bill_length_mm, color = factor(species_Gentoo))) +\n",
    "    labs(color = 'is Gentoo?') +\n",
    "    geom_line(aes(x = bill_depth_mm, y = .pred, group = species_Gentoo), \n",
    "              color = 'steelblue', linewidth = 1.2) +\n",
    "    geom_segment(aes(x = bill_depth_mm, xend = bill_depth_mm, y = .pred, yend = bill_length_mm), \n",
    "                 color = 'firebrick',\n",
    "                 alpha = 0.25)\n",
    "     "
   ]
  },
  {
   "cell_type": "markdown",
   "id": "3c8a33e6-a83f-4a50-81f6-0d55b957e9e7",
   "metadata": {
    "tags": []
   },
   "source": [
    "## Adding an interaction term"
   ]
  },
  {
   "cell_type": "code",
   "execution_count": null,
   "id": "cfb989a4-fb01-4a97-a61c-790f2ec8828c",
   "metadata": {
    "tags": []
   },
   "outputs": [],
   "source": [
    "rec = recipe(bill_length_mm ~ species + bill_depth_mm, data = penguins2) |>\n",
    "    step_dummy(species) |>\n",
    "    step_interact(terms = ~ bill_depth_mm:species_Gentoo)\n",
    "\n",
    "rec"
   ]
  },
  {
   "cell_type": "code",
   "execution_count": null,
   "id": "a2bc64e2-30f4-4660-89e6-fc6e13ca8f1b",
   "metadata": {
    "tags": []
   },
   "outputs": [],
   "source": [
    "rec_prepped  = prep(rec, penguins2) \n",
    "\n",
    "rec_prepped |> \n",
    "    juice() |>\n",
    "    tail()"
   ]
  },
  {
   "cell_type": "code",
   "execution_count": null,
   "id": "52e3d8c1-3fb4-4429-b63c-e7a5e11e488f",
   "metadata": {
    "tags": []
   },
   "outputs": [],
   "source": [
    "mod = linear_reg() |> set_engine('lm')"
   ]
  },
  {
   "cell_type": "code",
   "execution_count": null,
   "id": "b5bffe26-bdb1-473c-b110-429f89d8b532",
   "metadata": {
    "tags": []
   },
   "outputs": [],
   "source": [
    "mod_fit = mod |> fit(bill_length_mm ~ ., juice(rec_prepped))\n",
    "\n",
    "mod_fit"
   ]
  },
  {
   "cell_type": "code",
   "execution_count": null,
   "id": "f7233c61-03bc-4661-b3a9-6e00d04db4c2",
   "metadata": {
    "tags": []
   },
   "outputs": [],
   "source": [
    "penguins2_with_pred = augment(mod_fit, juice(rec_prepped))\n",
    "\n",
    "penguins2_with_pred |> head()"
   ]
  },
  {
   "cell_type": "code",
   "execution_count": null,
   "id": "1242410c-da38-4d28-8d5a-5740b385e693",
   "metadata": {
    "tags": []
   },
   "outputs": [],
   "source": [
    "options(repr.plot.height = 4, repr.plot.width = 6)\n",
    "\n",
    "ggplot(penguins2_with_pred) +\n",
    "    geom_point(aes(x = bill_depth_mm, y = bill_length_mm, color = factor(species_Gentoo))) +\n",
    "    labs(color = 'is Gentoo?') +\n",
    "    geom_line(aes(x = bill_depth_mm, y = .pred, group = species_Gentoo), \n",
    "              color = 'steelblue', linewidth = 1.2) +\n",
    "    geom_segment(aes(x = bill_depth_mm, xend = bill_depth_mm, y = .pred, yend = bill_length_mm), \n",
    "                 color = 'firebrick',\n",
    "                 alpha = 0.25)\n",
    "     "
   ]
  }
 ],
 "metadata": {
  "kernelspec": {
   "display_name": "R",
   "language": "R",
   "name": "ir"
  },
  "language_info": {
   "codemirror_mode": "r",
   "file_extension": ".r",
   "mimetype": "text/x-r-source",
   "name": "R",
   "pygments_lexer": "r",
   "version": "4.2.3"
  }
 },
 "nbformat": 4,
 "nbformat_minor": 5
}
