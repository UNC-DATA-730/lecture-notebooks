{
 "cells": [
  {
   "cell_type": "markdown",
   "id": "e1192a8f-1b7d-412f-8c26-1e2000cc0cd6",
   "metadata": {},
   "source": [
    "Run the following cell to import all the code we need to complete the exercise."
   ]
  },
  {
   "cell_type": "code",
   "execution_count": null,
   "id": "0cdac4ff-68ea-4875-a126-91e9dfcef130",
   "metadata": {},
   "outputs": [],
   "source": [
    "from sklearn.linear_model import LinearRegression\n",
    "from sklearn.preprocessing import OneHotEncoder\n",
    "from sklearn.compose import make_column_transformer\n",
    "from sklearn.pipeline import make_pipeline\n",
    "\n",
    "from plotnine import *\n",
    "\n",
    "import pandas as pd"
   ]
  },
  {
   "cell_type": "markdown",
   "id": "dc7a1ea9-52aa-41cb-9b93-03b0741da2a8",
   "metadata": {},
   "source": [
    "We will use the same data as in your Unit 3 assignment. See the FiveThiryEight article [\"Higher Rates Of Hate Crimes Are Tied To Income Inequality\"](https://fivethirtyeight.com/features/higher-rates-of-hate-crimes-are-tied-to-income-inequality/) for reference."
   ]
  },
  {
   "cell_type": "markdown",
   "id": "0520a07a-7516-4836-add1-73b8c02d9638",
   "metadata": {},
   "source": [
    "The data URL is http://bit.ly/2ItxYg3. Use `pd.read_csv` to read in this data and call the new dataframe `df_hate_crimes`.\n",
    "\n",
    "Use the snippet below 👇.\n",
    "```python\n",
    "df_hate_crimes = (\n",
    "    pd.read_csv('http://bit.ly/2ItxYg3')  # read in the data\n",
    "    .dropna()                             # remove rows with missing values\n",
    ")\n",
    "\n",
    "df_hate_crimes.head()                     # preview the table\n",
    "```"
   ]
  },
  {
   "cell_type": "code",
   "execution_count": null,
   "id": "8f66f87e-dbc1-46a6-842c-0f5809a72c85",
   "metadata": {},
   "outputs": [],
   "source": [
    "\n",
    "\n"
   ]
  },
  {
   "cell_type": "markdown",
   "id": "1ada5f69-b168-4ce9-862c-7ef7ab9d4597",
   "metadata": {},
   "source": [
    "Let's build a model of `income` using the `urbanization` and `hs` variables."
   ]
  },
  {
   "cell_type": "markdown",
   "id": "8b0660ee-2692-4864-9da7-50bad41ce5ea",
   "metadata": {},
   "source": [
    "First we'll make a preprocessor to dummy encode the `urbanization` column and pass the `hs` through untransformed to our model."
   ]
  },
  {
   "cell_type": "code",
   "execution_count": null,
   "id": "cfc7284e-0e54-4f03-9883-83394cca7b7f",
   "metadata": {},
   "outputs": [],
   "source": [
    "# fix the following code and execute the cell\n",
    "\n",
    "ct = make_column_transformer(\n",
    "    ['passthrough', ['FILL_IN_THE_PASSTHROUGH_COLUMN(S)_HERE']],\n",
    "    [OneHotEncoder(drop=['low']), ['FILL_IN_THE_COLUMN_TO_ENCODE_HERE']]\n",
    ")"
   ]
  },
  {
   "cell_type": "markdown",
   "id": "b6ffe2de-dda7-4555-98c2-9540e8d4ae79",
   "metadata": {},
   "source": [
    "Now let's create our training and test data. We establish our `outcome` variable and will send the rest of the data to our modeling pipeline."
   ]
  },
  {
   "cell_type": "code",
   "execution_count": null,
   "id": "5ce3c359-4f21-4f0c-a2e9-124c0121feb9",
   "metadata": {},
   "outputs": [],
   "source": [
    "outcome = 'income'\n",
    "\n",
    "# idomatically \"X\" stands for training data and \"y\" for the outcome\n",
    "X, y = df_hate_crimes.loc[:, df_hate_crimes.columns != outcome], df_hate_crimes[outcome]"
   ]
  },
  {
   "cell_type": "markdown",
   "id": "e028531f-dba2-4805-81c6-e08e94deed97",
   "metadata": {},
   "source": [
    "Preview the training data `X` to confirm our outcome is no longer in the training data."
   ]
  },
  {
   "cell_type": "code",
   "execution_count": null,
   "id": "f817e8e9-eaad-4d33-b27d-9d75c4e67685",
   "metadata": {},
   "outputs": [],
   "source": [
    "\n",
    "\n"
   ]
  },
  {
   "cell_type": "markdown",
   "id": "2ab333df-7edb-4900-bc50-eff8e251b08b",
   "metadata": {},
   "source": [
    "Use the `fit_transform` method for your column transformer to see how it transforms your training data. I.e. call `fit_transform` with `X` as the argument."
   ]
  },
  {
   "cell_type": "code",
   "execution_count": null,
   "id": "c8a095b6-cafb-432f-ba7f-34243d5e7a6a",
   "metadata": {},
   "outputs": [],
   "source": [
    "\n",
    "\n"
   ]
  },
  {
   "cell_type": "markdown",
   "id": "ee4fed71-04bb-46ca-8d67-f5c938876e98",
   "metadata": {},
   "source": [
    "Next we'll build out pipeline/model. Execute the following cell. Does the output make sense? Can you find which columns were passed through your column transformer by clicking through the output pipeline visualiztion? "
   ]
  },
  {
   "cell_type": "code",
   "execution_count": null,
   "id": "9a482525-de0e-4cb4-9349-136c1034b43a",
   "metadata": {},
   "outputs": [],
   "source": [
    "pl = make_pipeline(\n",
    "    ct, # or whatever you called your column transformer\n",
    "    LinearRegression()\n",
    ")\n",
    "\n",
    "pl.fit(X, y)"
   ]
  },
  {
   "cell_type": "markdown",
   "id": "fa267dc0-0359-4651-becc-394151a017e4",
   "metadata": {},
   "source": [
    "Make a new dataframe called `df_hate_crimes_w_pred` by calling the following method from the `df_hate_crimes` dataframer: `.assign(pred_income=lambda df_: pl.predict(df_))`.\n",
    "\n",
    "What is the name of your predictions column?"
   ]
  },
  {
   "cell_type": "code",
   "execution_count": null,
   "id": "8d926365-742b-4791-b60b-cb5cff5ea8da",
   "metadata": {},
   "outputs": [],
   "source": [
    "\n",
    "\n"
   ]
  },
  {
   "cell_type": "markdown",
   "id": "dd595f3d-c109-4741-8dca-07d0a24987ae",
   "metadata": {},
   "source": [
    "Use Plotnine and your `df_hate_crimes_w_pred` dataframe to plot your model. Use `geom_point` for your observed values and `geom_line` for your predicted values."
   ]
  },
  {
   "cell_type": "code",
   "execution_count": null,
   "id": "75e9ec9b-59c1-4b15-ac6a-f86cc1db86d1",
   "metadata": {},
   "outputs": [],
   "source": [
    "\n",
    "\n"
   ]
  },
  {
   "cell_type": "markdown",
   "id": "08832459-f2d9-419a-af49-5340cb820cc8",
   "metadata": {},
   "source": [
    "Use the function below to show the regression table for you model."
   ]
  },
  {
   "cell_type": "code",
   "execution_count": null,
   "id": "18ed5a98-da14-4476-80b7-40a7a5150f98",
   "metadata": {},
   "outputs": [],
   "source": [
    "def get_regression_table(pipeline):\n",
    "    \n",
    "    ct = pipeline['columntransformer']\n",
    "    terms = list(ct.get_feature_names_out()) + ['intercept']\n",
    "    \n",
    "    mod = pipeline['linearregression']\n",
    "    coefs = mod.coef_\n",
    "    intercept = mod.intercept_\n",
    "    estimates = list(coefs) + [intercept]\n",
    "    \n",
    "    data = {\n",
    "        \"term\": terms,\n",
    "        \"estimate\": estimates\n",
    "    }\n",
    "    \n",
    "    return pd.DataFrame(data)"
   ]
  },
  {
   "cell_type": "code",
   "execution_count": null,
   "id": "3517475b-a3c1-45b6-943e-b0b77424d96d",
   "metadata": {},
   "outputs": [],
   "source": [
    "\n",
    "\n"
   ]
  },
  {
   "cell_type": "markdown",
   "id": "fcf1cdea-edb2-4ff6-95a2-ba1f78613e20",
   "metadata": {},
   "source": [
    "😎 **BONUS** inspect the function above. How do you access the \"model\" from a pipeline? What about the coefficients for your model terms?"
   ]
  },
  {
   "cell_type": "code",
   "execution_count": null,
   "id": "11f6dc2c-584c-470e-beb5-7eec76c5dd74",
   "metadata": {},
   "outputs": [],
   "source": [
    "\n",
    "\n"
   ]
  }
 ],
 "metadata": {
  "kernelspec": {
   "display_name": "Python 3 (ipykernel)",
   "language": "python",
   "name": "python3"
  },
  "language_info": {
   "codemirror_mode": {
    "name": "ipython",
    "version": 3
   },
   "file_extension": ".py",
   "mimetype": "text/x-python",
   "name": "python",
   "nbconvert_exporter": "python",
   "pygments_lexer": "ipython3",
   "version": "3.12.1"
  }
 },
 "nbformat": 4,
 "nbformat_minor": 5
}
