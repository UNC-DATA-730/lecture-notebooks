{
 "cells": [
  {
   "cell_type": "code",
   "execution_count": null,
   "id": "9cb552ee-2c1f-45e5-9972-31fd144ef83d",
   "metadata": {
    "tags": []
   },
   "outputs": [],
   "source": [
    "import altair as alt\n",
    "from sklearn.linear_model import LogisticRegression\n",
    "from sklearn.preprocessing import LabelEncoder\n",
    "import palmerpenguins"
   ]
  },
  {
   "cell_type": "code",
   "execution_count": null,
   "id": "e801dfbe-d8c1-45b6-a246-05ce8049be70",
   "metadata": {
    "tags": []
   },
   "outputs": [],
   "source": [
    "penguins = (\n",
    "    palmerpenguins.load_penguins()\n",
    "    .dropna()\n",
    "    .pipe(lambda df_: df_[df_['species'].isin(['Adelie', 'Gentoo'])])\n",
    ")\n",
    "\n",
    "penguins.head()"
   ]
  },
  {
   "cell_type": "code",
   "execution_count": null,
   "id": "8103c603-27df-46df-8d03-09b395fce1cc",
   "metadata": {
    "tags": []
   },
   "outputs": [],
   "source": [
    "penguins.shape"
   ]
  },
  {
   "cell_type": "code",
   "execution_count": null,
   "id": "dd79ba6e-77d6-4455-ae9e-8b5c13d5ce96",
   "metadata": {
    "tags": []
   },
   "outputs": [],
   "source": [
    "X, y = penguins.loc[:, ['bill_length_mm']], penguins['species'].values"
   ]
  },
  {
   "cell_type": "code",
   "execution_count": null,
   "id": "c6994040-9de1-4c3f-94be-3e8bad18a591",
   "metadata": {
    "tags": []
   },
   "outputs": [],
   "source": [
    "X.head()"
   ]
  },
  {
   "cell_type": "code",
   "execution_count": null,
   "id": "2ef9cde7-e242-4cdb-89c4-8f3c9521f8c4",
   "metadata": {
    "tags": []
   },
   "outputs": [],
   "source": [
    "X.shape"
   ]
  },
  {
   "cell_type": "markdown",
   "id": "f064105b-db33-41fc-911b-ecb607d58ec8",
   "metadata": {},
   "source": [
    "## Logistic regression model"
   ]
  },
  {
   "cell_type": "code",
   "execution_count": null,
   "id": "545a80eb-cb7d-4c9b-9f9e-d0b48e1410b0",
   "metadata": {
    "tags": []
   },
   "outputs": [],
   "source": [
    "mod = LogisticRegression(penalty=None)"
   ]
  },
  {
   "cell_type": "code",
   "execution_count": null,
   "id": "f7ec6623-6e4b-4d82-8640-931a029b0ccb",
   "metadata": {
    "tags": []
   },
   "outputs": [],
   "source": [
    "dummy_enc = LabelEncoder()\n",
    "\n",
    "dummy_enc.fit_transform(y)\n",
    "\n",
    "y_enc"
   ]
  },
  {
   "cell_type": "code",
   "execution_count": null,
   "id": "a04f5416-9d7d-4094-8310-1fbb7688749f",
   "metadata": {
    "tags": []
   },
   "outputs": [],
   "source": [
    "mod.fit(X, y_enc)"
   ]
  },
  {
   "cell_type": "code",
   "execution_count": null,
   "id": "a4ce4a72-726e-4d2a-83eb-d2a3124c375c",
   "metadata": {
    "tags": []
   },
   "outputs": [],
   "source": [
    "mod.coef_"
   ]
  },
  {
   "cell_type": "code",
   "execution_count": null,
   "id": "c4abc67e-ed05-4a0b-b32c-663ff886bee3",
   "metadata": {
    "tags": []
   },
   "outputs": [],
   "source": [
    "mod.intercept_"
   ]
  },
  {
   "cell_type": "code",
   "execution_count": null,
   "id": "85b3265b-f38c-4f57-a4b7-5d8a04293b71",
   "metadata": {
    "tags": []
   },
   "outputs": [],
   "source": [
    "length = 52\n",
    "\n",
    "prediction = mod.predict([[length]])\n",
    "\n",
    "prediction"
   ]
  },
  {
   "cell_type": "code",
   "execution_count": null,
   "id": "614322c7-7f32-4cb7-a941-622068210c6b",
   "metadata": {
    "tags": []
   },
   "outputs": [],
   "source": [
    "dummy_enc.inverse_transform(prediction)"
   ]
  }
 ],
 "metadata": {
  "kernelspec": {
   "display_name": "Python 3 (ipykernel)",
   "language": "python",
   "name": "python3"
  },
  "language_info": {
   "codemirror_mode": {
    "name": "ipython",
    "version": 3
   },
   "file_extension": ".py",
   "mimetype": "text/x-python",
   "name": "python",
   "nbconvert_exporter": "python",
   "pygments_lexer": "ipython3",
   "version": "3.10.9"
  }
 },
 "nbformat": 4,
 "nbformat_minor": 5
}
