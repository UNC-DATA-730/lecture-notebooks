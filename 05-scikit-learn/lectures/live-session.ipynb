{
 "cells": [
  {
   "cell_type": "markdown",
   "id": "ca4e1372-42d4-4836-a653-aafbb491f246",
   "metadata": {},
   "source": [
    "## Python versus R"
   ]
  },
  {
   "cell_type": "markdown",
   "id": "9a0f6253-dd8b-45f5-94eb-6916a5af39c0",
   "metadata": {},
   "source": [
    "### Pandas"
   ]
  },
  {
   "cell_type": "markdown",
   "id": "c58702e2-d8a7-4e99-b87b-67714f01daea",
   "metadata": {},
   "source": [
    "```R\n",
    "library(\"tidymodels\")\n",
    "\n",
    "linear_reg()\n",
    "```"
   ]
  },
  {
   "cell_type": "code",
   "execution_count": null,
   "id": "3c587237-dce5-4377-9ec0-f007d222ec87",
   "metadata": {},
   "outputs": [],
   "source": [
    "import pandas as pd"
   ]
  },
  {
   "cell_type": "code",
   "execution_count": null,
   "id": "1590fdd8-d778-4964-b3d1-e2a4d0e6b8b7",
   "metadata": {},
   "outputs": [],
   "source": [
    "# from pandas import read_csv"
   ]
  },
  {
   "cell_type": "code",
   "execution_count": null,
   "id": "97c5bdd1-10d7-40fb-b659-a994f75e0e34",
   "metadata": {},
   "outputs": [],
   "source": [
    "pd.read_csv()"
   ]
  },
  {
   "cell_type": "code",
   "execution_count": null,
   "id": "fcfdcb4a-62ce-4273-b618-c4b74c960093",
   "metadata": {},
   "outputs": [],
   "source": [
    "# pd.read_csv()"
   ]
  },
  {
   "cell_type": "markdown",
   "id": "ff0a0b82-b00d-49c1-90a3-d2f0d677b2c7",
   "metadata": {},
   "source": [
    "### Plotnine \n",
    "\n",
    "https://plotnine.readthedocs.io/en/latest/"
   ]
  },
  {
   "cell_type": "code",
   "execution_count": null,
   "id": "05925078-ea61-4496-ad45-36ab63e474af",
   "metadata": {},
   "outputs": [],
   "source": [
    "from plotnine import *  # frowned upon in Python\n",
    "from plotnine.data import mtcars"
   ]
  },
  {
   "cell_type": "code",
   "execution_count": null,
   "id": "d2081c48-4ca5-41dd-bbaf-a48981e72158",
   "metadata": {},
   "outputs": [],
   "source": [
    "mtcars"
   ]
  },
  {
   "cell_type": "code",
   "execution_count": null,
   "id": "6f49767b-2ab2-4810-a7ea-12451d4c3b87",
   "metadata": {},
   "outputs": [],
   "source": [
    "(\n",
    "    ggplot(mtcars, aes(x = \"wt\", y = \"mpg\", color = \"factor(gear)\")) \n",
    "     + geom_point()\n",
    "     + stat_smooth(method=\"lm\")\n",
    "     + facet_wrap(\"~gear\")\n",
    ")"
   ]
  },
  {
   "cell_type": "markdown",
   "id": "f767fb8a-2389-4b5d-a852-165ced0efd85",
   "metadata": {},
   "source": [
    "### Altair\n",
    "\n",
    "https://altair-viz.github.io/"
   ]
  },
  {
   "cell_type": "code",
   "execution_count": null,
   "id": "65bee3ab-5034-4f7a-8114-faedd828b6a4",
   "metadata": {},
   "outputs": [],
   "source": [
    "from palmerpenguins import load_penguins"
   ]
  },
  {
   "cell_type": "code",
   "execution_count": null,
   "id": "cbe49510-20ce-4728-a033-7aa4bcb091af",
   "metadata": {},
   "outputs": [],
   "source": [
    "import altair as alt"
   ]
  },
  {
   "cell_type": "code",
   "execution_count": null,
   "id": "531c107e-e162-4545-9861-9f8588177858",
   "metadata": {},
   "outputs": [],
   "source": [
    "penguins = load_penguins()\n",
    "\n",
    "penguins.head()"
   ]
  },
  {
   "cell_type": "code",
   "execution_count": null,
   "id": "52a24b32-7620-41ba-bdf3-441514e7c285",
   "metadata": {},
   "outputs": [],
   "source": [
    "# pipe-ing uses dots instead of |> \n",
    "\n",
    "alt.Chart(penguins).mark_point().encode(\n",
    "    x = alt.X('bill_depth_mm', scale=alt.Scale(zero=False)),\n",
    "    y = alt.Y('bill_length_mm', scale=alt.Scale(zero=False)),\n",
    "    color = alt.Color('species'),\n",
    "    tooltip = [alt.Tooltip('species'), alt.Tooltip('sex')]\n",
    ")"
   ]
  },
  {
   "cell_type": "markdown",
   "id": "411feb3a-ca6f-4ee0-9c51-a304374b890e",
   "metadata": {},
   "source": [
    "## Scikit-Learn"
   ]
  },
  {
   "cell_type": "code",
   "execution_count": null,
   "id": "a1db6581-d650-4eee-9e60-e17c772612d6",
   "metadata": {},
   "outputs": [],
   "source": [
    "penguins = load_penguins()\n",
    "\n",
    "penguins.head()"
   ]
  },
  {
   "cell_type": "code",
   "execution_count": null,
   "id": "f1f68942-d875-47e5-8b90-9e63d5949367",
   "metadata": {},
   "outputs": [],
   "source": [
    "penguins2 = (\n",
    "    penguins\n",
    "    .dropna()\n",
    "    .pipe(lambda df_: df_[df_['species']==\"Adelie\"])\n",
    ")\n",
    "\n",
    "penguins2.head()"
   ]
  },
  {
   "cell_type": "markdown",
   "id": "e6c82528-73d3-4763-b144-ed105d131ae3",
   "metadata": {},
   "source": [
    "```R\n",
    "mod = linear_reg() |> set_engine(\"lm\")\n",
    "\n",
    "mod_fit = mod |> fit(bill_length_mm ~ bill_depth_mm, data = penguins)\n",
    "```"
   ]
  },
  {
   "cell_type": "code",
   "execution_count": null,
   "id": "a6d6c209-4865-4df3-a2a8-89112578e7e9",
   "metadata": {},
   "outputs": [],
   "source": [
    "list_of_stuff = [1, 2, 5, 6]\n",
    "list_of_stuff"
   ]
  },
  {
   "cell_type": "code",
   "execution_count": null,
   "id": "eff0970b-d5be-4c9b-80c0-b2a382c3f3dd",
   "metadata": {},
   "outputs": [],
   "source": [
    "features = ['bill_depth_mm']\n",
    "features"
   ]
  },
  {
   "cell_type": "code",
   "execution_count": null,
   "id": "1e3cf867-244c-437b-878f-ef3ca46c7658",
   "metadata": {},
   "outputs": [],
   "source": [
    "outcome = ['bill_length_mm']"
   ]
  },
  {
   "cell_type": "code",
   "execution_count": null,
   "id": "7872de95-a464-4300-a003-412824dd9152",
   "metadata": {},
   "outputs": [],
   "source": [
    "# in R: X = penguins2 |> select(bill_depth_mm)\n",
    "\n",
    "X = penguins2[features] # capitalized\n",
    "y = penguins2[['bill_length_mm']]\n",
    "\n",
    "X.head()"
   ]
  },
  {
   "cell_type": "code",
   "execution_count": null,
   "id": "2fc548d7-c635-4040-b0d3-9e924d75e26a",
   "metadata": {},
   "outputs": [],
   "source": [
    "from sklearn.linear_model import LinearRegression"
   ]
  },
  {
   "cell_type": "code",
   "execution_count": null,
   "id": "2d6ab4f9-eb61-48a4-bccd-1a84e3fae513",
   "metadata": {},
   "outputs": [],
   "source": [
    "mod = LinearRegression()\n",
    "\n",
    "mod.fit(X, y)\n",
    "\n",
    "mod"
   ]
  },
  {
   "cell_type": "code",
   "execution_count": null,
   "id": "73b9cbf2-e7fe-4df4-82f6-0509a32c5e02",
   "metadata": {},
   "outputs": [],
   "source": [
    "# in R: tidy(mod_fit)\n",
    "\n",
    "mod.intercept_"
   ]
  },
  {
   "cell_type": "code",
   "execution_count": null,
   "id": "4442e8db-1b8d-405b-a59d-16fc96604b74",
   "metadata": {},
   "outputs": [],
   "source": [
    "X_to_predict = pd.DataFrame(\n",
    "    {\"bill_depth_mm\": [19]}\n",
    ")\n",
    "\n",
    "X_to_predict"
   ]
  },
  {
   "cell_type": "code",
   "execution_count": null,
   "id": "92fe8b92-7d84-4c2f-8a40-7b81d146c56d",
   "metadata": {},
   "outputs": [],
   "source": [
    "# augment, predict\n",
    "# in R: mod |> predict(new_data = penguins)\n",
    "\n",
    "mod.predict(X_to_predict)"
   ]
  },
  {
   "cell_type": "code",
   "execution_count": null,
   "id": "c434ee90-c9d3-4b27-b46f-9ef546111657",
   "metadata": {},
   "outputs": [],
   "source": [
    "from plotnine import *\n",
    "\n",
    "p = (\n",
    "    ggplot(penguins2, aes(x = \"bill_depth_mm\", y = \"bill_length_mm\")) + geom_point()\n",
    ")\n",
    "\n",
    "p.draw()"
   ]
  },
  {
   "cell_type": "markdown",
   "id": "a82a8498-d594-4928-a3a6-d2c84adebe6a",
   "metadata": {},
   "source": [
    "### Transforming input data"
   ]
  },
  {
   "cell_type": "code",
   "execution_count": null,
   "id": "2b6a672e-e1fa-4138-9c48-a9ca12106195",
   "metadata": {},
   "outputs": [],
   "source": [
    "from sklearn.compose import make_column_transformer\n",
    "from sklearn.preprocessing import OneHotEncoder"
   ]
  },
  {
   "cell_type": "code",
   "execution_count": null,
   "id": "f704f8c1-6b43-4168-af68-6eba513adf27",
   "metadata": {},
   "outputs": [],
   "source": [
    "features = ['bill_depth_mm', 'species']\n",
    "features"
   ]
  },
  {
   "cell_type": "code",
   "execution_count": null,
   "id": "7d3f3768-1b24-48be-9fea-53231cce14cc",
   "metadata": {},
   "outputs": [],
   "source": [
    "penguins_no_missing = penguins.dropna()\n",
    "\n",
    "X = penguins_no_missing[features] # capitalized\n",
    "y = penguins_no_missing[['bill_length_mm']]\n",
    "\n",
    "X.head()"
   ]
  },
  {
   "cell_type": "code",
   "execution_count": null,
   "id": "eeca9d93-28b5-497d-a334-ed6f0d77158e",
   "metadata": {},
   "outputs": [],
   "source": [
    "ct = make_column_transformer(\n",
    "    ['passthrough', ['bill_depth_mm']],\n",
    "    [OneHotEncoder(drop=['Adelie']), ['species']]\n",
    ")"
   ]
  },
  {
   "cell_type": "code",
   "execution_count": null,
   "id": "9bcb7c25-db81-493f-8558-6c6b28e02a37",
   "metadata": {},
   "outputs": [],
   "source": [
    "ct"
   ]
  },
  {
   "cell_type": "code",
   "execution_count": null,
   "id": "ede2d870-3d56-46ea-a408-843e2e8b4d22",
   "metadata": {},
   "outputs": [],
   "source": [
    "ct.fit_transform(X)[:5]\n",
    "\n",
    "# try fit then transform"
   ]
  },
  {
   "cell_type": "markdown",
   "id": "c5aa0bc7-2619-4e7a-8f95-b18ff4a4188c",
   "metadata": {},
   "source": [
    "### Pipelines"
   ]
  },
  {
   "cell_type": "code",
   "execution_count": null,
   "id": "07fc6e71-87d6-4f9b-aa97-09540f8f565d",
   "metadata": {},
   "outputs": [],
   "source": [
    "from sklearn.pipeline import make_pipeline"
   ]
  },
  {
   "cell_type": "code",
   "execution_count": null,
   "id": "1249f1fb-8ff2-4d45-ba7e-6f53bd7f71e6",
   "metadata": {},
   "outputs": [],
   "source": [
    "pl = make_pipeline(\n",
    "    ct,\n",
    "    LinearRegression()\n",
    ")"
   ]
  },
  {
   "cell_type": "code",
   "execution_count": null,
   "id": "55553281-4cb6-464a-a20f-43aacb98ad81",
   "metadata": {},
   "outputs": [],
   "source": [
    "pl.fit(X, y)"
   ]
  },
  {
   "cell_type": "markdown",
   "id": "9dcedc7a-8080-46b2-86de-f0b3d99aefeb",
   "metadata": {},
   "source": [
    "#### Extract steps from pipeline"
   ]
  },
  {
   "cell_type": "code",
   "execution_count": null,
   "id": "d1d38d52-02f3-44ee-9cd7-c3fbca8122da",
   "metadata": {},
   "outputs": [],
   "source": [
    "pl.named_steps"
   ]
  },
  {
   "cell_type": "code",
   "execution_count": null,
   "id": "02a5681d-9852-473f-a3b7-011ff43ecffc",
   "metadata": {},
   "outputs": [],
   "source": [
    "mod = pl['linearregression']"
   ]
  },
  {
   "cell_type": "code",
   "execution_count": null,
   "id": "eacd09af-18e9-49fb-afc5-c714a5f49552",
   "metadata": {},
   "outputs": [],
   "source": [
    "mod.intercept_"
   ]
  },
  {
   "cell_type": "code",
   "execution_count": null,
   "id": "bd1d42b4-1189-4943-87aa-9df191487645",
   "metadata": {},
   "outputs": [],
   "source": [
    "X_to_predict = pd.DataFrame(\n",
    "    {\"bill_depth_mm\": [19],\n",
    "     \"species\": [\"Adelie\"]}\n",
    ")"
   ]
  },
  {
   "cell_type": "code",
   "execution_count": null,
   "id": "0a67ca5a-2e17-422b-9c3c-08ef7544b156",
   "metadata": {},
   "outputs": [],
   "source": [
    "pl.predict(X_to_predict)"
   ]
  },
  {
   "cell_type": "code",
   "execution_count": null,
   "id": "851d4947-bf93-4487-b749-4bde1688b8ce",
   "metadata": {},
   "outputs": [],
   "source": [
    "mod_from_pipeline = pl['linearregression']\n",
    "mod_from_pipeline.intercept_"
   ]
  }
 ],
 "metadata": {
  "kernelspec": {
   "display_name": "Python 3 (ipykernel)",
   "language": "python",
   "name": "python3"
  },
  "language_info": {
   "codemirror_mode": {
    "name": "ipython",
    "version": 3
   },
   "file_extension": ".py",
   "mimetype": "text/x-python",
   "name": "python",
   "nbconvert_exporter": "python",
   "pygments_lexer": "ipython3",
   "version": "3.12.1"
  }
 },
 "nbformat": 4,
 "nbformat_minor": 5
}
