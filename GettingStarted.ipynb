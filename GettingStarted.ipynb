{
 "cells": [
  {
   "cell_type": "markdown",
   "id": "af725d9f-1c99-4873-a4ef-ae9a6ce8b1a7",
   "metadata": {},
   "source": [
    "[![Open In Studio Lab](https://studiolab.sagemaker.aws/studiolab.svg)](https://studiolab.sagemaker.aws/import/github/chuckpr/sdss-statistical-modeling-and-inference/blob/main/GettingStarted.ipynb)"
   ]
  },
  {
   "cell_type": "markdown",
   "id": "a1cfff93-f864-475d-b262-e0bd007f471b",
   "metadata": {},
   "source": [
    "This is placeholder for the `GettingStarted` notebook 😀"
   ]
  }
 ],
 "metadata": {
  "kernelspec": {
   "display_name": "Python 3 (ipykernel)",
   "language": "python",
   "name": "python3"
  },
  "language_info": {
   "codemirror_mode": {
    "name": "ipython",
    "version": 3
   },
   "file_extension": ".py",
   "mimetype": "text/x-python",
   "name": "python",
   "nbconvert_exporter": "python",
   "pygments_lexer": "ipython3",
   "version": "3.9.16"
  }
 },
 "nbformat": 4,
 "nbformat_minor": 5
}
