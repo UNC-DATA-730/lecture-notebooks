{
 "cells": [
  {
   "cell_type": "markdown",
   "id": "d9e704a5-ff4e-48f6-b695-5545bb45abfa",
   "metadata": {},
   "source": [
    "Load the `tidymodels` and `ISLR2` package."
   ]
  },
  {
   "cell_type": "code",
   "execution_count": null,
   "id": "a25eb9a8-be66-4e4b-b0d5-76a7d5919c80",
   "metadata": {
    "scrolled": true
   },
   "outputs": [],
   "source": [
    "library('tidymodels')\n",
    "library('ISLR2')"
   ]
  },
  {
   "cell_type": "markdown",
   "id": "6e698ce8-9713-44fa-ade0-602590686b8a",
   "metadata": {},
   "source": [
    "In this exercise we will explore the relationship of `dis` (as in mean \"distance\" from employment centers) and `nox` (as in nitrous oxides concentraion) from the `Boston` data set (via the `ISLR2` package)."
   ]
  },
  {
   "cell_type": "markdown",
   "id": "b4a60082-0c7f-4130-8fd3-aefca4cc2b85",
   "metadata": {},
   "source": [
    "Plot `nox` as a function of `dis` below."
   ]
  },
  {
   "cell_type": "code",
   "execution_count": null,
   "id": "0937c2ce-e09e-4154-8890-0cf6e2b7de7b",
   "metadata": {},
   "outputs": [],
   "source": [
    "\n",
    "\n"
   ]
  },
  {
   "cell_type": "markdown",
   "id": "8db8fd7e-5d92-41a1-9874-05b3a7f7c021",
   "metadata": {},
   "source": [
    "Let's build a model of `nox` using `dis` as a predictor. We'll use a natural splines transformation and try a number of values for degrees of freedom to see which parameter value works best."
   ]
  },
  {
   "cell_type": "markdown",
   "id": "58beb229-4089-4fba-814f-9225c22acc17",
   "metadata": {},
   "source": [
    "First let's create our data \"folds\" for evaluation.\n",
    "\n",
    "Call your output table of folds \"folds\" and use the `vfold_cv` function to create the table. Create 10 folds."
   ]
  },
  {
   "cell_type": "code",
   "execution_count": null,
   "id": "21ad266c-bb3c-472d-8aed-070bfecefb54",
   "metadata": {},
   "outputs": [],
   "source": [
    "\n",
    "\n"
   ]
  },
  {
   "cell_type": "markdown",
   "id": "54fa4d45-7094-4cb6-8ee9-f9b007e289b4",
   "metadata": {},
   "source": [
    "Now we need a recipe that is \"tunable.\"  Add a natural spline transformation step to your recipe and set `deg_free = tune()`."
   ]
  },
  {
   "cell_type": "code",
   "execution_count": null,
   "id": "a92d2345-f211-4767-8b2b-5500157bd8b5",
   "metadata": {},
   "outputs": [],
   "source": [
    "rec = recipe(nox ~ dis, data = Boston) |>\n",
    "    # add the natural spline transformation step here\n",
    "\n"
   ]
  },
  {
   "cell_type": "markdown",
   "id": "7caf5e20-9c1c-46a1-a597-bc646eb933cb",
   "metadata": {},
   "source": [
    "Let's test `deg_free` values from 3 to 15. The code below generates a table of `deg_free` values."
   ]
  },
  {
   "cell_type": "code",
   "execution_count": null,
   "id": "108a3114-cfa2-4c45-ae35-e7bb823ec806",
   "metadata": {},
   "outputs": [],
   "source": [
    "deg_free = tibble(deg_free = 3:15)\n",
    "\n"
   ]
  },
  {
   "cell_type": "markdown",
   "id": "30e71e64-a734-4768-aeb9-b878098f222a",
   "metadata": {},
   "source": [
    "We can now create a model and run it over for each fold in `folds` and each value in the `deg_free` table.\n",
    "\n",
    "Start by coding your model specification. Use `linear_reg`."
   ]
  },
  {
   "cell_type": "code",
   "execution_count": null,
   "id": "32a43957-1dc6-473d-ae5f-5d2a38110964",
   "metadata": {},
   "outputs": [],
   "source": [
    "\n",
    "\n"
   ]
  },
  {
   "cell_type": "markdown",
   "id": "a0b8ab96-154c-488a-81d2-1b33755678c2",
   "metadata": {},
   "source": [
    "The `tune_gred` function fits your model for each fold/parameter combination in your parameters table. Run the code below to fit all the models."
   ]
  },
  {
   "cell_type": "code",
   "execution_count": null,
   "id": "a1aaa12c-e858-4a5b-9d9a-837e8c022524",
   "metadata": {},
   "outputs": [],
   "source": [
    "mod_res = tune_grid(mod, rec, resamples = folds, grid = deg_free)\n",
    "\n",
    "mod_res |> \n",
    "    collect_metrics() |>\n",
    "    head()"
   ]
  },
  {
   "cell_type": "markdown",
   "id": "b0930d33-51fc-4655-8829-520b5d3c5f2f",
   "metadata": {},
   "source": [
    "Now that you have seen the ouput of `collect_metrics` on all your models, Plot `deg_free` versus `mean` (the mean of the evaluation metric for all folds at a value for `deg_free`). Facet your chart by `.metric`."
   ]
  },
  {
   "cell_type": "code",
   "execution_count": null,
   "id": "cfffe759-9e6d-4de3-abd6-6894c0d24c6a",
   "metadata": {},
   "outputs": [],
   "source": [
    "\n",
    "\n"
   ]
  },
  {
   "cell_type": "markdown",
   "id": "41aeafea-5214-4306-9c93-89db081d3d76",
   "metadata": {},
   "source": [
    "What appears to be the best value for `deg_free`? Create a model using this value and plot the model below."
   ]
  },
  {
   "cell_type": "code",
   "execution_count": null,
   "id": "5e6e6090-b9c9-49f1-b427-e50ddb0cdbfa",
   "metadata": {},
   "outputs": [],
   "source": [
    "\n",
    "\n"
   ]
  }
 ],
 "metadata": {
  "kernelspec": {
   "display_name": "R",
   "language": "R",
   "name": "ir"
  },
  "language_info": {
   "codemirror_mode": "r",
   "file_extension": ".r",
   "mimetype": "text/x-r-source",
   "name": "R",
   "pygments_lexer": "r",
   "version": "4.2.3"
  }
 },
 "nbformat": 4,
 "nbformat_minor": 5
}
