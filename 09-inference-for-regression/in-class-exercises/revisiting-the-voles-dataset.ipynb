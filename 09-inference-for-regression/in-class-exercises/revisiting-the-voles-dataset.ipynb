{
 "cells": [
  {
   "cell_type": "markdown",
   "id": "32cd5e27-fd1b-4952-9437-94a31fb1f6f2",
   "metadata": {},
   "source": [
    "In this exercise we will revisit the [Voles datasest](http://bit.ly/2IgDF0E) from the [Unit 6 assignment](https://github.com/UNC-DATA-730/a05/blob/main/assignment6.ipynb)."
   ]
  },
  {
   "cell_type": "code",
   "execution_count": null,
   "id": "77a153eb-22a9-473d-b519-499434eb133a",
   "metadata": {},
   "outputs": [],
   "source": [
    "library('tidymodels')"
   ]
  },
  {
   "cell_type": "code",
   "execution_count": null,
   "id": "0fb3648b-a6b0-4a76-ad62-13b881eb9eb4",
   "metadata": {},
   "outputs": [],
   "source": [
    "df_voles = readr::read_csv('http://bit.ly/2IgDF0E', col_types = readr::cols())\n",
    "\n",
    "df_voles |> head()"
   ]
  },
  {
   "cell_type": "markdown",
   "id": "d2c30a08-4195-4821-82ef-2c43391acce5",
   "metadata": {},
   "source": [
    "Plot the `voles` variable (outcome) versus `veg` variable (explanatory)."
   ]
  },
  {
   "cell_type": "code",
   "execution_count": null,
   "id": "9eac304c-5d0b-4026-a01a-d719383fdf95",
   "metadata": {},
   "outputs": [],
   "source": [
    "\n",
    "\n"
   ]
  },
  {
   "cell_type": "markdown",
   "id": "bed3204a-e05a-4151-9f1a-bf96f3d86778",
   "metadata": {},
   "source": [
    "Make a linear, parallel slopes model of `voles` versus `veg` and `soil`. What is the value for the `veg` term coefficient?"
   ]
  },
  {
   "cell_type": "markdown",
   "id": "2cecdf36-9279-4d7d-9bc9-81aa716d537a",
   "metadata": {},
   "source": [
    "1. Create your model with `linear_reg` and `set_engine`.\n",
    "2. Make a `recipe` to transform your data. `soil` should be dummy encoded (hint: use `step_dummy`). *Don't forget to `prep` your recipe!*.\n",
    "3. Fit your model with data transformed using the recipe (hint: use `juice`).\n",
    "4. Show your regression table with `tidy`."
   ]
  },
  {
   "cell_type": "code",
   "execution_count": null,
   "id": "557b215d-b2cc-4895-b183-87dc1baa3106",
   "metadata": {},
   "outputs": [],
   "source": [
    "\n",
    "\n"
   ]
  },
  {
   "cell_type": "markdown",
   "id": "57ee47ef-977b-4e44-a18c-fac9ae2f26c6",
   "metadata": {},
   "source": [
    "Let's see how sampling variability affects the `veg` term."
   ]
  },
  {
   "cell_type": "code",
   "execution_count": null,
   "id": "498d279b-1823-4007-b01f-4d9b399f84eb",
   "metadata": {},
   "outputs": [],
   "source": [
    "# create 1,000 bootstrap samples from the original data\n",
    "\n",
    "boots = bootstraps(df_voles, times = 1000, apparent = TRUE)\n",
    "\n",
    "boots |> glimpse()"
   ]
  },
  {
   "cell_type": "markdown",
   "id": "ee0327e0-86fd-4f1b-9be8-d32cd2c32222",
   "metadata": {},
   "source": [
    "What column holds your bootstrap samples?"
   ]
  },
  {
   "cell_type": "code",
   "execution_count": null,
   "id": "442fefe8-1023-4e59-ac95-26acd23c44aa",
   "metadata": {},
   "outputs": [],
   "source": [
    "\n",
    "\n"
   ]
  },
  {
   "cell_type": "markdown",
   "id": "a16f1e84-2000-4121-b850-c2e73fa17148",
   "metadata": {},
   "source": [
    "We can use the map function from `purrr` to create a model from every bootstrap sample."
   ]
  },
  {
   "cell_type": "code",
   "execution_count": null,
   "id": "a311b6db-92ef-4b65-b0d1-559e311744ee",
   "metadata": {},
   "outputs": [],
   "source": [
    "boot_models = boots |>\n",
    "    mutate(model = map(splits, ~mod |> fit(voles ~ ., data = bake(rec, new_data = .x))))\n",
    "\n",
    "boot_models |> glimpse()"
   ]
  },
  {
   "cell_type": "markdown",
   "id": "2640ab09-9a33-4ab1-be24-1c6135111444",
   "metadata": {},
   "source": [
    "Now we need to create a regression table for all our models. Try to build this `purrr` function yourself.\n",
    "\n",
    "(Hint: if you want to run `tidy` for all the models in a column called `model`, you might use `map(model, tidy))` inside of `mutate`."
   ]
  },
  {
   "cell_type": "code",
   "execution_count": null,
   "id": "3e23c28d-0e99-41e3-ad61-638f883cef37",
   "metadata": {},
   "outputs": [],
   "source": [
    "\n",
    "\n"
   ]
  },
  {
   "cell_type": "markdown",
   "id": "827709be-e781-4c46-9f30-06bb4b7f3b8e",
   "metadata": {},
   "source": [
    "Last, we need to \"unnest\" the regression table information. \n",
    "\n",
    "In this step,\n",
    "1. Use `select` to remove the `model` and `splits` columns.\n",
    "2. Pipe this table into the `unnest` function with the column name for your regression table as the argument.\n",
    "3. Preview the output."
   ]
  },
  {
   "cell_type": "code",
   "execution_count": null,
   "id": "bb48f843-a9dd-4bcf-8409-00d752bc8d4b",
   "metadata": {},
   "outputs": [],
   "source": [
    "\n",
    "\n"
   ]
  },
  {
   "cell_type": "markdown",
   "id": "542872a0-7449-4f3e-a626-10d2672b45cc",
   "metadata": {},
   "source": [
    "Make a histogram of your `veg` coefficients 📊. \n",
    "\n",
    "[Here is what I found.](https://github.com/UNC-DATA-730/lecture-notebooks/blob/main/09-inference-for-regression/in-class-exercises/solution-histogram.png?raw=true)"
   ]
  },
  {
   "cell_type": "code",
   "execution_count": null,
   "id": "be83ded3-20fd-4841-9b97-ff170975ca7e",
   "metadata": {},
   "outputs": [],
   "source": [
    "\n",
    "\n"
   ]
  },
  {
   "cell_type": "markdown",
   "id": "92685891-4954-4e75-a0d5-7b0364014c8d",
   "metadata": {},
   "source": [
    "Use the percentile method to find the bounds of a 95% confidence interval for the `veg` coefficient."
   ]
  },
  {
   "cell_type": "code",
   "execution_count": null,
   "id": "52d642f5-d6dd-4aa9-89ca-f2a1adcade9c",
   "metadata": {},
   "outputs": [],
   "source": [
    "\n",
    "\n"
   ]
  },
  {
   "cell_type": "markdown",
   "id": "a250e223-8773-45eb-b56c-8588332f49c3",
   "metadata": {},
   "source": [
    "What can we say about the relationship of `voles` and  `veg`?"
   ]
  },
  {
   "cell_type": "code",
   "execution_count": null,
   "id": "f7963c40-9c71-4f3a-a74d-37eb0db5f57b",
   "metadata": {},
   "outputs": [],
   "source": [
    "\n",
    "\n"
   ]
  }
 ],
 "metadata": {
  "kernelspec": {
   "display_name": "R",
   "language": "R",
   "name": "ir"
  },
  "language_info": {
   "codemirror_mode": "r",
   "file_extension": ".r",
   "mimetype": "text/x-r-source",
   "name": "R",
   "pygments_lexer": "r",
   "version": "4.2.3"
  }
 },
 "nbformat": 4,
 "nbformat_minor": 5
}
