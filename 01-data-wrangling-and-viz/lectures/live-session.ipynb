{
 "cells": [
  {
   "cell_type": "code",
   "execution_count": null,
   "id": "b0e9c435-dc4e-4a8b-b023-05758474ef6c",
   "metadata": {},
   "outputs": [],
   "source": [
    "library('tidyverse')\n",
    "library('tidymodels')"
   ]
  },
  {
   "cell_type": "code",
   "execution_count": null,
   "id": "60b2d324-9264-45c2-a97d-30c1b4f36ca7",
   "metadata": {},
   "outputs": [],
   "source": [
    "options(repr.plot.res = 250, repr.plot.height = 3, repr.plot.width = 5)"
   ]
  },
  {
   "cell_type": "code",
   "execution_count": null,
   "id": "51608853-299f-4c0d-8d1d-8ed52f56bb37",
   "metadata": {
    "tags": []
   },
   "outputs": [],
   "source": [
    "data_url = \"https://raw.githubusercontent.com/rfordatascience/tidytuesday/master/data/2021/2021-11-23/episodes.csv\"\n",
    "\n",
    "dr_who_raw = read_csv(data_url, col_types = cols())\n",
    "\n",
    "dr_who_raw |> head()\n"
   ]
  },
  {
   "cell_type": "code",
   "execution_count": null,
   "id": "10b1e699-6fe5-4141-bcd2-012f96af2d71",
   "metadata": {},
   "outputs": [],
   "source": [
    "dr_who_raw |> summarize(max(first_aired))"
   ]
  },
  {
   "cell_type": "markdown",
   "id": "bd43d440-2de2-4f66-841d-f9f806207de2",
   "metadata": {},
   "source": [
    "## Line chart\n",
    "\n",
    "1. Point out encodings\n",
    "2. Point out scales\n",
    "3. Change x using “scale_x_date” date_breaks = ‘2 months’\n",
    "4. Each row is a “vertex” in the line chart"
   ]
  },
  {
   "cell_type": "code",
   "execution_count": null,
   "id": "ddd417d2-994a-4473-9590-aaf3a4e3fe08",
   "metadata": {},
   "outputs": [],
   "source": [
    "\n",
    "\n",
    "\n"
   ]
  },
  {
   "cell_type": "markdown",
   "id": "ca70cc04-8117-424d-991b-a7cc5ed32172",
   "metadata": {},
   "source": [
    "## `dplyrR`\n",
    "\n",
    "1. Grab top_n\n",
    "2. Calculate mean viewership by year\n",
    "3. Grab top_n by year"
   ]
  },
  {
   "cell_type": "code",
   "execution_count": null,
   "id": "41dccd21-1eb2-492c-b58b-942917c47fda",
   "metadata": {},
   "outputs": [],
   "source": [
    "\n",
    "\n"
   ]
  },
  {
   "cell_type": "markdown",
   "id": "8c8431c0-9d89-441e-b0f6-6763ff6f9227",
   "metadata": {},
   "source": [
    "## Visualize model"
   ]
  },
  {
   "cell_type": "code",
   "execution_count": null,
   "id": "055ed7be-5ad0-4b02-847d-35a7770bfba4",
   "metadata": {},
   "outputs": [],
   "source": [
    "rec = recipe(uk_viewers ~ first_aired, data = dr_who_raw) |>\n",
    "    step_naomit(uk_viewers) |>\n",
    "    step_date(first_aired, features = 'year') |>\n",
    "    step_holiday(first_aired, holidays = c('NewYearsDay', 'ChristmasDay'), keep_original_cols = FALSE) |>\n",
    "    prep()\n",
    "\n",
    "rec |> juice() |> head()"
   ]
  },
  {
   "cell_type": "code",
   "execution_count": null,
   "id": "3f60fc0e-edb6-4e80-808f-be64e698b671",
   "metadata": {},
   "outputs": [],
   "source": [
    "mod = linear_reg() |> set_engine('lm')\n",
    "\n",
    "mod_fit = mod |> fit(uk_viewers ~ ., data = rec |> juice())"
   ]
  },
  {
   "cell_type": "code",
   "execution_count": null,
   "id": "bb92fd62-ab20-41b8-a220-329ae403e3d9",
   "metadata": {},
   "outputs": [],
   "source": [
    "dummy_data = tibble(\n",
    "    first_aired = seq(as.Date(\"2005-03-01\"), as.Date(\"2021-12-01\"), \"days\")\n",
    ")\n",
    "\n",
    "dummy_data |> head()"
   ]
  },
  {
   "cell_type": "code",
   "execution_count": null,
   "id": "ff8e8174-2a92-496b-8cb0-6c1ab4d64bc5",
   "metadata": {},
   "outputs": [],
   "source": [
    "predictions = predict(mod_fit, rec |> bake(dummy_data)) |>\n",
    "    bind_cols(dummy_data)\n",
    "\n",
    "predictions |> head()"
   ]
  },
  {
   "cell_type": "code",
   "execution_count": null,
   "id": "0d55bf8c-5edd-41a2-820b-1cc5402de13f",
   "metadata": {
    "tags": []
   },
   "outputs": [],
   "source": [
    "ggplot(dr_who_raw, aes(x = first_aired, y = uk_viewers)) + \n",
    "    geom_line(color = 'steelblue') +\n",
    "    # geom_line(data = predictions, mapping = aes(y = .pred), color = 'coral') +\n",
    "    scale_x_date(date_breaks = \"2 years\", date_labels = \"%Y\")"
   ]
  }
 ],
 "metadata": {
  "kernelspec": {
   "display_name": "R",
   "language": "R",
   "name": "ir"
  },
  "language_info": {
   "codemirror_mode": "r",
   "file_extension": ".r",
   "mimetype": "text/x-r-source",
   "name": "R",
   "pygments_lexer": "r",
   "version": "4.2.3"
  }
 },
 "nbformat": 4,
 "nbformat_minor": 5
}
