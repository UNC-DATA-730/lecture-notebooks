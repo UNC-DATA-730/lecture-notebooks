{
 "cells": [
  {
   "cell_type": "markdown",
   "id": "97b607c7-f1f2-4a1e-b207-ca6b64d1ee47",
   "metadata": {},
   "source": [
    "Load the `ISLR2` and `tidymodels` packages."
   ]
  },
  {
   "cell_type": "code",
   "execution_count": null,
   "id": "b46f7380-96f2-4c12-8a72-fc0eba109f86",
   "metadata": {},
   "outputs": [],
   "source": [
    "library('ISLR2')\n",
    "library('tidymodels')"
   ]
  },
  {
   "cell_type": "markdown",
   "id": "066d8478-77cb-47be-bcbb-9f25d46ac9b0",
   "metadata": {},
   "source": [
    "In this exercise we will explore the relationship of `dis` (as in mean \"distance\" from employment centers) and `nox` (as in nitrous oxides concentraion) from the `Boston` data set (via the `ISLR2` package)."
   ]
  },
  {
   "cell_type": "markdown",
   "id": "d92d002d-447a-4b5f-90c1-8edff90867d2",
   "metadata": {},
   "source": [
    "Plot `nox` as a function of `dis` below."
   ]
  },
  {
   "cell_type": "code",
   "execution_count": null,
   "id": "cbd3be43-ae63-4a0d-b0ad-3c6d6cc3d29a",
   "metadata": {},
   "outputs": [],
   "source": [
    "\n",
    "\n"
   ]
  },
  {
   "cell_type": "markdown",
   "id": "4c37dc37-eb0b-4a2e-831e-a6dd1cc744bc",
   "metadata": {},
   "source": [
    "❓Does the relationship between these two variables look linear (add `stat_smooth(method = \"lm\")` to your chart to confirm)?"
   ]
  },
  {
   "cell_type": "markdown",
   "id": "a7cb9124-ca61-4075-93d1-753b60053e10",
   "metadata": {},
   "source": [
    "In the recipe below we transform our data using a polynomical function. Run the code and inspect the output table."
   ]
  },
  {
   "cell_type": "code",
   "execution_count": null,
   "id": "ebb04543-9efd-4588-b223-edd3a679e69a",
   "metadata": {},
   "outputs": [],
   "source": [
    "rec = recipe(nox ~ dis, data = Boston) |>\n",
    "    step_poly(dis , options = c(raw = TRUE), degree = 3) |>\n",
    "    prep()\n",
    "\n",
    "juice(rec) |> head()"
   ]
  },
  {
   "cell_type": "markdown",
   "id": "6aeb8114-b438-42df-9c35-f2aecf5cce7f",
   "metadata": {},
   "source": [
    "Look at the original `Boston` table. Is there any difference between `dis_poly_1` and `dis`? How does `dis_poly_2` compare to `dis_poly_1`?"
   ]
  },
  {
   "cell_type": "markdown",
   "id": "cbadd5e3-dbf9-496a-8e6d-e3816a48a97b",
   "metadata": {},
   "source": [
    "Create a *linear* regression model using the transformed data. Call your fitted model `mod_fit`.\n",
    "\n",
    "1. Use `linear_reg()` to create the model object.\n",
    "2. Fit the model with the \"juiced\" data from your recipe (above) and the formula `nox ~ .`. "
   ]
  },
  {
   "cell_type": "code",
   "execution_count": null,
   "id": "942cdf42-4cff-489e-9350-215997cfbfb4",
   "metadata": {},
   "outputs": [],
   "source": [
    "\n",
    "\n"
   ]
  },
  {
   "cell_type": "markdown",
   "id": "ac7d6d1f-f0f4-42e0-99d1-3fef9c8b9e3b",
   "metadata": {},
   "source": [
    "Run the code below to plot your model. Does it match the trend better than a straight line?"
   ]
  },
  {
   "cell_type": "code",
   "execution_count": null,
   "id": "54d34c41-1b20-4649-a918-3c7f4880e4bd",
   "metadata": {},
   "outputs": [],
   "source": [
    "predict(mod_fit, rec |> juice()) |>\n",
    "    bind_cols(Boston) |>\n",
    "ggplot(aes(x = dis)) +\n",
    "    geom_point(aes(y = nox), alpha = 0.5) +\n",
    "    geom_line(aes(y = .pred), color = 'coral', linewidth = 1)"
   ]
  }
 ],
 "metadata": {
  "kernelspec": {
   "display_name": "R",
   "language": "R",
   "name": "ir"
  },
  "language_info": {
   "codemirror_mode": "r",
   "file_extension": ".r",
   "mimetype": "text/x-r-source",
   "name": "R",
   "pygments_lexer": "r",
   "version": "4.2.3"
  }
 },
 "nbformat": 4,
 "nbformat_minor": 5
}
