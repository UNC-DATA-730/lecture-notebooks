{
 "cells": [
  {
   "cell_type": "markdown",
   "id": "1f7b4c9f-7b8c-45e9-8568-2be8d3d3012d",
   "metadata": {},
   "source": [
    "Load the `ISLR2` and `tidymodels` packages."
   ]
  },
  {
   "cell_type": "code",
   "execution_count": null,
   "id": "a5f3f725-482f-491d-a913-26e7c581c1ae",
   "metadata": {},
   "outputs": [],
   "source": [
    "library('ISLR2')\n",
    "library('tidymodels')"
   ]
  },
  {
   "cell_type": "markdown",
   "id": "5aebf342-a0c0-49de-86ce-57fcabb67ea7",
   "metadata": {},
   "source": [
    "In this exercise we will explore the relationship of `dis` (as in mean \"distance\" from employment centers) and `nox` (as in nitrous oxides concentraion) from the `Boston` data set (via the `ISLR2` package)."
   ]
  },
  {
   "cell_type": "markdown",
   "id": "3fc75060-5f7a-4a05-9fd6-c012f52879c7",
   "metadata": {},
   "source": [
    "In cells below, adapt the code from the first in class exercise for this unit. \n",
    "\n",
    "1. In your recipe, replace `step_poly` with `step_ns`. Use `deg_free = 3` to start.\n",
    "2. Plot your model.\n",
    "3. Create a new model but this time use `deg_free = 10`.\n",
    "4. Plot the two models together. [Here is my example.](https://github.com/UNC-DATA-730/lecture-notebooks/blob/main/11-nonlinear-fits/in-class-exercises/example.png?raw=true)\n",
    "5. Compare the models using their residual sum of squares (use the `glance` function).\n",
    "6. Which model is better?"
   ]
  },
  {
   "cell_type": "code",
   "execution_count": null,
   "id": "0bb563e9-69a7-437d-abf8-51b437771fc8",
   "metadata": {},
   "outputs": [],
   "source": [
    "\n",
    "\n"
   ]
  }
 ],
 "metadata": {
  "kernelspec": {
   "display_name": "R",
   "language": "R",
   "name": "ir"
  },
  "language_info": {
   "codemirror_mode": "r",
   "file_extension": ".r",
   "mimetype": "text/x-r-source",
   "name": "R",
   "pygments_lexer": "r",
   "version": "4.2.3"
  }
 },
 "nbformat": 4,
 "nbformat_minor": 5
}
