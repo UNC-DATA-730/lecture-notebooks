{
 "cells": [
  {
   "cell_type": "code",
   "execution_count": null,
   "id": "d7fdfe7b-8132-418d-b64a-3ad3037e6676",
   "metadata": {},
   "outputs": [],
   "source": [
    "library('purrr')\n",
    "library('tidyverse')"
   ]
  },
  {
   "cell_type": "markdown",
   "id": "dd3a95b4-2edd-4ca7-be1c-783fb5e5a9a4",
   "metadata": {},
   "source": [
    "Consider this example from [Think Stats 2e](https://greenteapress.com/wp/think-stats-2e/): \n",
    "\n",
    "You operate a casino and a player at one of your craps tables is winning. You suspect the player has employed\n",
    "a crooked die. You collect the following data for the players first 60 rolls with the die in question."
   ]
  },
  {
   "cell_type": "code",
   "execution_count": null,
   "id": "08699110-c0a6-46c6-bbe1-c43af607c440",
   "metadata": {},
   "outputs": [],
   "source": [
    "observed_data = tribble(\n",
    "    ~die_roll, ~count,\n",
    "     1,          8,\n",
    "     2,          9,\n",
    "     3,         19,\n",
    "     4,          5,\n",
    "     5,          8, \n",
    "     6,          11\n",
    ")\n",
    "\n",
    "observed_data"
   ]
  },
  {
   "cell_type": "markdown",
   "id": "9a2b38e9-dbc8-4835-92e2-5867dc30702a",
   "metadata": {},
   "source": [
    "Let's select a \"test statistic\" quantify how the observed data deviates from what we would expect *on average* from a fair die. Then we can find the null distribution of the test statistic and leverage that distribution to investigate the fairness of the suspicious die."
   ]
  },
  {
   "cell_type": "markdown",
   "id": "2c2d4a40-00cc-4d49-8dae-871dc518553c",
   "metadata": {},
   "source": [
    "The following is a table that represents a fair die:"
   ]
  },
  {
   "cell_type": "code",
   "execution_count": null,
   "id": "352005d4-0c63-4ce5-b1a2-68490d7e1aaf",
   "metadata": {},
   "outputs": [],
   "source": [
    "fair_die = tribble(\n",
    "    ~die_roll,\n",
    "    1,\n",
    "    2,\n",
    "    3,\n",
    "    4,\n",
    "    5, \n",
    "    6\n",
    ")\n",
    "\n",
    "fair_die"
   ]
  },
  {
   "cell_type": "markdown",
   "id": "d5d1aa03-f15f-48f8-9a13-ac2cbb7e785a",
   "metadata": {},
   "source": [
    "We can use the `slice_sample` with `replace = TRUE` to simulate a \"n\" dice rolls."
   ]
  },
  {
   "cell_type": "code",
   "execution_count": null,
   "id": "dd7598ab-fe11-4b7c-90a9-c0036b1c1d5f",
   "metadata": {},
   "outputs": [],
   "source": [
    "slice_sample(fair_die, n = 10, replace = TRUE)"
   ]
  },
  {
   "cell_type": "markdown",
   "id": "29205eb2-86ca-4052-a2ff-9d50759484a5",
   "metadata": {},
   "source": [
    "The following is a function that calcuates the absolute deviance for a set of \"n\" rolls from what we would expect from a fair dice *on average*.\n",
    "\n",
    "```r\n",
    "abs_deviance = function(roll_frequencies) {\n",
    "    n = sum(roll_frequencies)\n",
    "    expected = n / 6\n",
    "    abs(roll_frequencies - expected) |> sum()\n",
    "}\n",
    "\n",
    "```"
   ]
  },
  {
   "cell_type": "markdown",
   "id": "789a0e73-ca28-4129-9a63-eadab09b790a",
   "metadata": {},
   "source": [
    "Create this function in the cell below and calculate \"absolute deviance\" for the suspicious die.\n",
    "\n",
    "(**Hint:** use `summarize(abs_dev = abs_deviance(count))`)"
   ]
  },
  {
   "cell_type": "code",
   "execution_count": null,
   "id": "401f6d25-ac49-4d5f-88a8-978d0957e70f",
   "metadata": {},
   "outputs": [],
   "source": [
    "\n",
    "\n"
   ]
  },
  {
   "cell_type": "markdown",
   "id": "9dc4d8fe-a095-48b7-b564-21051c7463cf",
   "metadata": {},
   "source": [
    "The `purrr` code below generates simulates rolling a fair die 60 times for 1,000 iterations.\n",
    "\n",
    "```r\n",
    "n_iterations = 1000\n",
    "n_rolls = 60\n",
    "\n",
    "1:n_iterations |> map_dfr(~slice_sample(fair_die, n = 60, replace = TRUE), .id = 'replicate')\n",
    "\n",
    "```\n",
    "\n",
    "Run this code and collect the output in a table called `simulated_data`."
   ]
  },
  {
   "cell_type": "code",
   "execution_count": null,
   "id": "040cb0b0-4d25-4c43-9935-35d6c6e5932e",
   "metadata": {},
   "outputs": [],
   "source": [
    "\n",
    "\n"
   ]
  },
  {
   "cell_type": "markdown",
   "id": "32579dae-1e29-4733-8ffe-3c4b42068f16",
   "metadata": {},
   "source": [
    "Now we are ready to calculate the null distribution of our test statistic!\n",
    "\n",
    "Using `simulated_data`,\n",
    "1. `group_by` the `replicate` variable (add `.drop = FALSE` to make sure you include zero frequency counts),\n",
    "2. `count` the frequency of `die_roll`. Last, \n",
    "3. `summarize` each group using the `abs_deviance` function from above. Call you new column `abs_dev`.\n",
    "\n",
    "Capture the output into a table called `abs_dev_null_dist`."
   ]
  },
  {
   "cell_type": "code",
   "execution_count": null,
   "id": "fb2628c0-649e-4cfc-96ca-5eb8e4840b11",
   "metadata": {},
   "outputs": [],
   "source": [
    "\n",
    "\n"
   ]
  },
  {
   "cell_type": "markdown",
   "id": "df834c63-b588-445e-be5c-47e628749932",
   "metadata": {},
   "source": [
    "Plot a histogram of `abs_dev`. Use `geom_vline` to show the positon of our the test statistic calculated from the suspicious die."
   ]
  },
  {
   "cell_type": "code",
   "execution_count": null,
   "id": "f99a1a8d-2c30-4fd0-a570-a6ee77a87cd4",
   "metadata": {},
   "outputs": [],
   "source": [
    "\n",
    "\n"
   ]
  },
  {
   "cell_type": "markdown",
   "id": "0e2ae775-1aa0-4fd7-8993-7eff95dce788",
   "metadata": {},
   "source": [
    "Can you calculate a \"p-value\" for our suspicous die using the null distribution and the observed test statistic?"
   ]
  },
  {
   "cell_type": "code",
   "execution_count": null,
   "id": "b573dd63-b6e8-48b7-a41a-6a20a68fc6d6",
   "metadata": {},
   "outputs": [],
   "source": [
    "\n",
    "\n"
   ]
  },
  {
   "cell_type": "markdown",
   "id": "89ecbeb7-71de-4b40-885b-6a33f9e217e2",
   "metadata": {},
   "source": [
    "Redo the steps above but this time use the [Chi square](https://en.wikipedia.org/wiki/Chi-squared_test) statistic. The **Chi square** test statistic simply quantifies the sum of squared differences from expected values divided by the expected value.\n",
    "\n",
    "You can re-use `simulated_data`.\n",
    "\n",
    "Here is a function in `R`:\n",
    "\n",
    "```r\n",
    "chi_square = function(roll_frequencies) {\n",
    "    n = sum(roll_frequencies)\n",
    "    expected = n / 6\n",
    "    sum((roll_frequencies - expected)**2 / expected)\n",
    "}\n",
    "\n",
    "```"
   ]
  },
  {
   "cell_type": "code",
   "execution_count": null,
   "id": "a67e4f4f-c177-4524-9e84-255a12694471",
   "metadata": {},
   "outputs": [],
   "source": [
    "\n",
    "\n"
   ]
  },
  {
   "cell_type": "markdown",
   "id": "c7e1909c-8168-404a-b548-5df34ab58eef",
   "metadata": {},
   "source": [
    "Is the \"p-value\" using the Chi square test statistic lower or higher than that calcuated using \"absolute deviance\" as the test statistic? "
   ]
  },
  {
   "cell_type": "code",
   "execution_count": null,
   "id": "1c72772d-1a3c-436f-8afa-1a8f1e1b225e",
   "metadata": {},
   "outputs": [],
   "source": [
    "\n",
    "\n"
   ]
  }
 ],
 "metadata": {
  "kernelspec": {
   "display_name": "R",
   "language": "R",
   "name": "ir"
  },
  "language_info": {
   "codemirror_mode": "r",
   "file_extension": ".r",
   "mimetype": "text/x-r-source",
   "name": "R",
   "pygments_lexer": "r",
   "version": "4.2.3"
  }
 },
 "nbformat": 4,
 "nbformat_minor": 5
}
